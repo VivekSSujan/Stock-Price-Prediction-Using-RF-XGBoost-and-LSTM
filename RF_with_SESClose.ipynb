{
 "cells": [
  {
   "cell_type": "code",
   "execution_count": 1,
   "id": "f53fcbbf-a62d-4aa2-be7b-9aa4e17a5e48",
   "metadata": {},
   "outputs": [],
   "source": [
    "import yfinance as yf\n",
    "import pandas as pd\n",
    "import os"
   ]
  },
  {
   "cell_type": "code",
   "execution_count": 2,
   "id": "0c4d2b51-1187-44c7-a281-da84d0381dd5",
   "metadata": {},
   "outputs": [],
   "source": [
    "if os.path.exists(\"sp500.csv\"):\n",
    "    sp500 = pd.read_csv(\"sp500.csv\", index_col=0)\n",
    "else:\n",
    "    sp500 = yf.Ticker(\"^GSPC\")\n",
    "    sp500 = sp500.history(period=\"max\")\n",
    "    sp500.to_csv(\"sp500.csv\")"
   ]
  },
  {
   "cell_type": "code",
   "execution_count": 3,
   "id": "f605b43c-8db9-43ae-b2d4-29fc6048b8aa",
   "metadata": {},
   "outputs": [],
   "source": [
    "# sp500.index = pd.to_datetime(sp500.index)"
   ]
  },
  {
   "cell_type": "code",
   "execution_count": 4,
   "id": "db7570ac-0406-4ff7-84fe-1a6b4d733529",
   "metadata": {},
   "outputs": [],
   "source": [
    "# Ensure it's parsed as datetime first\n",
    "sp500.index = pd.to_datetime(sp500.index, utc=True)  # Forcefully makes it tz-aware\n",
    "\n",
    "# Then remove the timezone\n",
    "sp500.index = sp500.index.tz_convert(None)\n",
    "\n",
    "# Now safely filter from 1990 onwards\n",
    "sp500 = sp500.loc[\"1990-01-01\":].copy()"
   ]
  },
  {
   "cell_type": "code",
   "execution_count": 5,
   "id": "fbb162ce-7d18-4c14-b349-9014c0d6db42",
   "metadata": {},
   "outputs": [
    {
     "data": {
      "text/html": [
       "<div>\n",
       "<style scoped>\n",
       "    .dataframe tbody tr th:only-of-type {\n",
       "        vertical-align: middle;\n",
       "    }\n",
       "\n",
       "    .dataframe tbody tr th {\n",
       "        vertical-align: top;\n",
       "    }\n",
       "\n",
       "    .dataframe thead th {\n",
       "        text-align: right;\n",
       "    }\n",
       "</style>\n",
       "<table border=\"1\" class=\"dataframe\">\n",
       "  <thead>\n",
       "    <tr style=\"text-align: right;\">\n",
       "      <th></th>\n",
       "      <th>Open</th>\n",
       "      <th>High</th>\n",
       "      <th>Low</th>\n",
       "      <th>Close</th>\n",
       "      <th>Volume</th>\n",
       "      <th>Dividends</th>\n",
       "      <th>Stock Splits</th>\n",
       "    </tr>\n",
       "    <tr>\n",
       "      <th>Date</th>\n",
       "      <th></th>\n",
       "      <th></th>\n",
       "      <th></th>\n",
       "      <th></th>\n",
       "      <th></th>\n",
       "      <th></th>\n",
       "      <th></th>\n",
       "    </tr>\n",
       "  </thead>\n",
       "  <tbody>\n",
       "    <tr>\n",
       "      <th>1990-01-02 05:00:00</th>\n",
       "      <td>353.399994</td>\n",
       "      <td>359.690002</td>\n",
       "      <td>351.980011</td>\n",
       "      <td>359.690002</td>\n",
       "      <td>162070000</td>\n",
       "      <td>0.0</td>\n",
       "      <td>0.0</td>\n",
       "    </tr>\n",
       "    <tr>\n",
       "      <th>1990-01-03 05:00:00</th>\n",
       "      <td>359.690002</td>\n",
       "      <td>360.589996</td>\n",
       "      <td>357.890015</td>\n",
       "      <td>358.760010</td>\n",
       "      <td>192330000</td>\n",
       "      <td>0.0</td>\n",
       "      <td>0.0</td>\n",
       "    </tr>\n",
       "    <tr>\n",
       "      <th>1990-01-04 05:00:00</th>\n",
       "      <td>358.760010</td>\n",
       "      <td>358.760010</td>\n",
       "      <td>352.890015</td>\n",
       "      <td>355.670013</td>\n",
       "      <td>177000000</td>\n",
       "      <td>0.0</td>\n",
       "      <td>0.0</td>\n",
       "    </tr>\n",
       "    <tr>\n",
       "      <th>1990-01-05 05:00:00</th>\n",
       "      <td>355.670013</td>\n",
       "      <td>355.670013</td>\n",
       "      <td>351.350006</td>\n",
       "      <td>352.200012</td>\n",
       "      <td>158530000</td>\n",
       "      <td>0.0</td>\n",
       "      <td>0.0</td>\n",
       "    </tr>\n",
       "    <tr>\n",
       "      <th>1990-01-08 05:00:00</th>\n",
       "      <td>352.200012</td>\n",
       "      <td>354.239990</td>\n",
       "      <td>350.540009</td>\n",
       "      <td>353.790009</td>\n",
       "      <td>140110000</td>\n",
       "      <td>0.0</td>\n",
       "      <td>0.0</td>\n",
       "    </tr>\n",
       "  </tbody>\n",
       "</table>\n",
       "</div>"
      ],
      "text/plain": [
       "                           Open        High         Low       Close  \\\n",
       "Date                                                                  \n",
       "1990-01-02 05:00:00  353.399994  359.690002  351.980011  359.690002   \n",
       "1990-01-03 05:00:00  359.690002  360.589996  357.890015  358.760010   \n",
       "1990-01-04 05:00:00  358.760010  358.760010  352.890015  355.670013   \n",
       "1990-01-05 05:00:00  355.670013  355.670013  351.350006  352.200012   \n",
       "1990-01-08 05:00:00  352.200012  354.239990  350.540009  353.790009   \n",
       "\n",
       "                        Volume  Dividends  Stock Splits  \n",
       "Date                                                     \n",
       "1990-01-02 05:00:00  162070000        0.0           0.0  \n",
       "1990-01-03 05:00:00  192330000        0.0           0.0  \n",
       "1990-01-04 05:00:00  177000000        0.0           0.0  \n",
       "1990-01-05 05:00:00  158530000        0.0           0.0  \n",
       "1990-01-08 05:00:00  140110000        0.0           0.0  "
      ]
     },
     "execution_count": 5,
     "metadata": {},
     "output_type": "execute_result"
    }
   ],
   "source": [
    "sp500.head()"
   ]
  },
  {
   "cell_type": "markdown",
   "id": "6e32c087-118d-46f9-82b3-caa86601bef4",
   "metadata": {},
   "source": [
    "This is not a dataset of all S&P 500 company stock prices.\n",
    "It’s just the index value for the S&P 500 — a single composite time series.\n",
    "the dataset is only for one asset — the ^GSPC index. Each row shows one day of S&P 500 aggregate movement — like a market pulse.\n"
   ]
  },
  {
   "cell_type": "code",
   "execution_count": 7,
   "id": "1b02b64d-9eef-489f-894d-26f9e6792db5",
   "metadata": {},
   "outputs": [],
   "source": [
    "del sp500[\"Dividends\"]\n",
    "del sp500[\"Stock Splits\"]"
   ]
  },
  {
   "cell_type": "markdown",
   "id": "60a4ab9b-7fcd-428c-860f-64483ec54d47",
   "metadata": {},
   "source": [
    "## EDA"
   ]
  },
  {
   "cell_type": "markdown",
   "id": "f912872e-67ab-44ed-bfd0-3f49299321b4",
   "metadata": {},
   "source": [
    "trading volume is not steady over time — it reflects technology, investor behavior, and global events.\n",
    "Major spikes (like in 2008 & 2020) align with market crashes, while general growth reflects the democratization of investing."
   ]
  },
  {
   "cell_type": "markdown",
   "id": "7da22199-69cd-4e5a-b724-718a3d559afd",
   "metadata": {},
   "source": [
    "This heatmap confirms that most price features are redundant (correlated 1.0), but volume and volatility (rolling std) add independent signals that could be useful in a trading or prediction model."
   ]
  },
  {
   "cell_type": "code",
   "execution_count": 11,
   "id": "62ebc2e6-f44c-43db-b260-1638b9690cfb",
   "metadata": {},
   "outputs": [],
   "source": [
    "# Apply standard single exponential smoothing (SES) to the Close price\n",
    "alpha = 0.3  # smoothing factor (between 0 and 1)\n",
    "\n",
    "sp500[\"SES_Close\"] = sp500[\"Close\"].ewm(alpha=alpha, adjust=False).mean()"
   ]
  },
  {
   "cell_type": "code",
   "execution_count": 12,
   "id": "2f2d5c8e-54bd-46e5-8d39-303b7ad4b1cc",
   "metadata": {},
   "outputs": [
    {
     "data": {
      "image/png": "[encoded data removed]",
      "text/plain": [
       "<Figure size 1200x600 with 1 Axes>"
      ]
     },
     "metadata": {},
     "output_type": "display_data"
    }
   ],
   "source": [
    "import matplotlib.pyplot as plt\n",
    "\n",
    "plt.figure(figsize=(12,6))\n",
    "plt.plot(sp500[\"Close\"], label=\"Original Close\", alpha=0.4)\n",
    "plt.plot(sp500[\"SES_Close\"], label=f\"SES Smoothed (α={alpha})\", color='red')\n",
    "plt.title(\"Single Exponential Smoothing on S&P 500 Close Prices\")\n",
    "plt.legend()\n",
    "plt.grid(True)\n",
    "plt.show()"
   ]
  },
  {
   "cell_type": "markdown",
   "id": "1e4981c8-6ba6-4e3b-9702-0dba7e556091",
   "metadata": {},
   "source": [
    "## Random Forest "
   ]
  },
  {
   "cell_type": "code",
   "execution_count": 14,
   "id": "6e52465e-9437-4729-9200-eb3d0cbfb7f5",
   "metadata": {},
   "outputs": [],
   "source": [
    "sp500.drop('Close', axis=1,inplace=True)"
   ]
  },
  {
   "cell_type": "code",
   "execution_count": 15,
   "id": "975f665b-322d-47f2-8d7b-b63a5aebf5bb",
   "metadata": {},
   "outputs": [],
   "source": [
    "sp500.rename(columns={'SES_Close':'Close'},inplace=True)"
   ]
  },
  {
   "cell_type": "code",
   "execution_count": 16,
   "id": "f25e1594-1cd2-47ae-bb50-a0d17ac35c69",
   "metadata": {},
   "outputs": [],
   "source": [
    "sp500[\"Tomorrow\"] = sp500[\"Close\"].shift(-1)"
   ]
  },
  {
   "cell_type": "code",
   "execution_count": 17,
   "id": "871b16a1-9d77-40c8-8564-1947b438a113",
   "metadata": {},
   "outputs": [],
   "source": [
    "sp500[\"Target\"] = (sp500[\"Tomorrow\"] > sp500[\"Close\"]).astype(int)"
   ]
  },
  {
   "cell_type": "code",
   "execution_count": 18,
   "id": "3b78e041-1961-4f16-86ca-997b3780f43c",
   "metadata": {},
   "outputs": [
    {
     "data": {
      "text/html": [
       "<div>\n",
       "<style scoped>\n",
       "    .dataframe tbody tr th:only-of-type {\n",
       "        vertical-align: middle;\n",
       "    }\n",
       "\n",
       "    .dataframe tbody tr th {\n",
       "        vertical-align: top;\n",
       "    }\n",
       "\n",
       "    .dataframe thead th {\n",
       "        text-align: right;\n",
       "    }\n",
       "</style>\n",
       "<table border=\"1\" class=\"dataframe\">\n",
       "  <thead>\n",
       "    <tr style=\"text-align: right;\">\n",
       "      <th></th>\n",
       "      <th>Open</th>\n",
       "      <th>High</th>\n",
       "      <th>Low</th>\n",
       "      <th>Volume</th>\n",
       "      <th>Close</th>\n",
       "      <th>Tomorrow</th>\n",
       "      <th>Target</th>\n",
       "    </tr>\n",
       "    <tr>\n",
       "      <th>Date</th>\n",
       "      <th></th>\n",
       "      <th></th>\n",
       "      <th></th>\n",
       "      <th></th>\n",
       "      <th></th>\n",
       "      <th></th>\n",
       "      <th></th>\n",
       "    </tr>\n",
       "  </thead>\n",
       "  <tbody>\n",
       "    <tr>\n",
       "      <th>1990-01-02 05:00:00</th>\n",
       "      <td>353.399994</td>\n",
       "      <td>359.690002</td>\n",
       "      <td>351.980011</td>\n",
       "      <td>162070000</td>\n",
       "      <td>359.690002</td>\n",
       "      <td>359.411005</td>\n",
       "      <td>0</td>\n",
       "    </tr>\n",
       "    <tr>\n",
       "      <th>1990-01-03 05:00:00</th>\n",
       "      <td>359.690002</td>\n",
       "      <td>360.589996</td>\n",
       "      <td>357.890015</td>\n",
       "      <td>192330000</td>\n",
       "      <td>359.411005</td>\n",
       "      <td>358.288707</td>\n",
       "      <td>0</td>\n",
       "    </tr>\n",
       "    <tr>\n",
       "      <th>1990-01-04 05:00:00</th>\n",
       "      <td>358.760010</td>\n",
       "      <td>358.760010</td>\n",
       "      <td>352.890015</td>\n",
       "      <td>177000000</td>\n",
       "      <td>358.288707</td>\n",
       "      <td>356.462099</td>\n",
       "      <td>0</td>\n",
       "    </tr>\n",
       "    <tr>\n",
       "      <th>1990-01-05 05:00:00</th>\n",
       "      <td>355.670013</td>\n",
       "      <td>355.670013</td>\n",
       "      <td>351.350006</td>\n",
       "      <td>158530000</td>\n",
       "      <td>356.462099</td>\n",
       "      <td>355.660472</td>\n",
       "      <td>0</td>\n",
       "    </tr>\n",
       "    <tr>\n",
       "      <th>1990-01-08 05:00:00</th>\n",
       "      <td>352.200012</td>\n",
       "      <td>354.239990</td>\n",
       "      <td>350.540009</td>\n",
       "      <td>140110000</td>\n",
       "      <td>355.660472</td>\n",
       "      <td>353.848329</td>\n",
       "      <td>0</td>\n",
       "    </tr>\n",
       "    <tr>\n",
       "      <th>...</th>\n",
       "      <td>...</td>\n",
       "      <td>...</td>\n",
       "      <td>...</td>\n",
       "      <td>...</td>\n",
       "      <td>...</td>\n",
       "      <td>...</td>\n",
       "      <td>...</td>\n",
       "    </tr>\n",
       "    <tr>\n",
       "      <th>2025-07-01 04:00:00</th>\n",
       "      <td>6187.250000</td>\n",
       "      <td>6210.779785</td>\n",
       "      <td>6177.970215</td>\n",
       "      <td>6275310000</td>\n",
       "      <td>6153.578444</td>\n",
       "      <td>6175.730888</td>\n",
       "      <td>1</td>\n",
       "    </tr>\n",
       "    <tr>\n",
       "      <th>2025-07-02 04:00:00</th>\n",
       "      <td>6193.879883</td>\n",
       "      <td>6227.600098</td>\n",
       "      <td>6188.290039</td>\n",
       "      <td>5645710000</td>\n",
       "      <td>6175.730888</td>\n",
       "      <td>6206.816651</td>\n",
       "      <td>1</td>\n",
       "    </tr>\n",
       "    <tr>\n",
       "      <th>2025-07-03 04:00:00</th>\n",
       "      <td>6246.459961</td>\n",
       "      <td>6284.649902</td>\n",
       "      <td>6246.459961</td>\n",
       "      <td>3378110000</td>\n",
       "      <td>6206.816651</td>\n",
       "      <td>6213.765650</td>\n",
       "      <td>1</td>\n",
       "    </tr>\n",
       "    <tr>\n",
       "      <th>2025-07-07 04:00:00</th>\n",
       "      <td>6259.040039</td>\n",
       "      <td>6262.069824</td>\n",
       "      <td>6201.000000</td>\n",
       "      <td>5236740000</td>\n",
       "      <td>6213.765650</td>\n",
       "      <td>6217.291961</td>\n",
       "      <td>1</td>\n",
       "    </tr>\n",
       "    <tr>\n",
       "      <th>2025-07-08 04:00:00</th>\n",
       "      <td>6234.029785</td>\n",
       "      <td>6242.700195</td>\n",
       "      <td>6217.750000</td>\n",
       "      <td>5739030000</td>\n",
       "      <td>6217.291961</td>\n",
       "      <td>NaN</td>\n",
       "      <td>0</td>\n",
       "    </tr>\n",
       "  </tbody>\n",
       "</table>\n",
       "<p>8944 rows × 7 columns</p>\n",
       "</div>"
      ],
      "text/plain": [
       "                            Open         High          Low      Volume  \\\n",
       "Date                                                                     \n",
       "1990-01-02 05:00:00   353.399994   359.690002   351.980011   162070000   \n",
       "1990-01-03 05:00:00   359.690002   360.589996   357.890015   192330000   \n",
       "1990-01-04 05:00:00   358.760010   358.760010   352.890015   177000000   \n",
       "1990-01-05 05:00:00   355.670013   355.670013   351.350006   158530000   \n",
       "1990-01-08 05:00:00   352.200012   354.239990   350.540009   140110000   \n",
       "...                          ...          ...          ...         ...   \n",
       "2025-07-01 04:00:00  6187.250000  6210.779785  6177.970215  6275310000   \n",
       "2025-07-02 04:00:00  6193.879883  6227.600098  6188.290039  5645710000   \n",
       "2025-07-03 04:00:00  6246.459961  6284.649902  6246.459961  3378110000   \n",
       "2025-07-07 04:00:00  6259.040039  6262.069824  6201.000000  5236740000   \n",
       "2025-07-08 04:00:00  6234.029785  6242.700195  6217.750000  5739030000   \n",
       "\n",
       "                           Close     Tomorrow  Target  \n",
       "Date                                                   \n",
       "1990-01-02 05:00:00   359.690002   359.411005       0  \n",
       "1990-01-03 05:00:00   359.411005   358.288707       0  \n",
       "1990-01-04 05:00:00   358.288707   356.462099       0  \n",
       "1990-01-05 05:00:00   356.462099   355.660472       0  \n",
       "1990-01-08 05:00:00   355.660472   353.848329       0  \n",
       "...                          ...          ...     ...  \n",
       "2025-07-01 04:00:00  6153.578444  6175.730888       1  \n",
       "2025-07-02 04:00:00  6175.730888  6206.816651       1  \n",
       "2025-07-03 04:00:00  6206.816651  6213.765650       1  \n",
       "2025-07-07 04:00:00  6213.765650  6217.291961       1  \n",
       "2025-07-08 04:00:00  6217.291961          NaN       0  \n",
       "\n",
       "[8944 rows x 7 columns]"
      ]
     },
     "execution_count": 18,
     "metadata": {},
     "output_type": "execute_result"
    }
   ],
   "source": [
    "sp500"
   ]
  },
  {
   "cell_type": "code",
   "execution_count": 19,
   "id": "ad95d689-520a-4141-ab6e-a0fe3f9697a6",
   "metadata": {},
   "outputs": [
    {
     "data": {
      "text/html": [
       "<style>#sk-container-id-1 {\n",
       "  /* Definition of color scheme common for light and dark mode */\n",
       "  --sklearn-color-text: black;\n",
       "  --sklearn-color-line: gray;\n",
       "  /* Definition of color scheme for unfitted estimators */\n",
       "  --sklearn-color-unfitted-level-0: #fff5e6;\n",
       "  --sklearn-color-unfitted-level-1: #f6e4d2;\n",
       "  --sklearn-color-unfitted-level-2: #ffe0b3;\n",
       "  --sklearn-color-unfitted-level-3: chocolate;\n",
       "  /* Definition of color scheme for fitted estimators */\n",
       "  --sklearn-color-fitted-level-0: #f0f8ff;\n",
       "  --sklearn-color-fitted-level-1: #d4ebff;\n",
       "  --sklearn-color-fitted-level-2: #b3dbfd;\n",
       "  --sklearn-color-fitted-level-3: cornflowerblue;\n",
       "\n",
       "  /* Specific color for light theme */\n",
       "  --sklearn-color-text-on-default-background: var(--sg-text-color, var(--theme-code-foreground, var(--jp-content-font-color1, black)));\n",
       "  --sklearn-color-background: var(--sg-background-color, var(--theme-background, var(--jp-layout-color0, white)));\n",
       "  --sklearn-color-border-box: var(--sg-text-color, var(--theme-code-foreground, var(--jp-content-font-color1, black)));\n",
       "  --sklearn-color-icon: #696969;\n",
       "\n",
       "  @media (prefers-color-scheme: dark) {\n",
       "    /* Redefinition of color scheme for dark theme */\n",
       "    --sklearn-color-text-on-default-background: var(--sg-text-color, var(--theme-code-foreground, var(--jp-content-font-color1, white)));\n",
       "    --sklearn-color-background: var(--sg-background-color, var(--theme-background, var(--jp-layout-color0, #111)));\n",
       "    --sklearn-color-border-box: var(--sg-text-color, var(--theme-code-foreground, var(--jp-content-font-color1, white)));\n",
       "    --sklearn-color-icon: #878787;\n",
       "  }\n",
       "}\n",
       "\n",
       "#sk-container-id-1 {\n",
       "  color: var(--sklearn-color-text);\n",
       "}\n",
       "\n",
       "#sk-container-id-1 pre {\n",
       "  padding: 0;\n",
       "}\n",
       "\n",
       "#sk-container-id-1 input.sk-hidden--visually {\n",
       "  border: 0;\n",
       "  clip: rect(1px 1px 1px 1px);\n",
       "  clip: rect(1px, 1px, 1px, 1px);\n",
       "  height: 1px;\n",
       "  margin: -1px;\n",
       "  overflow: hidden;\n",
       "  padding: 0;\n",
       "  position: absolute;\n",
       "  width: 1px;\n",
       "}\n",
       "\n",
       "#sk-container-id-1 div.sk-dashed-wrapped {\n",
       "  border: 1px dashed var(--sklearn-color-line);\n",
       "  margin: 0 0.4em 0.5em 0.4em;\n",
       "  box-sizing: border-box;\n",
       "  padding-bottom: 0.4em;\n",
       "  background-color: var(--sklearn-color-background);\n",
       "}\n",
       "\n",
       "#sk-container-id-1 div.sk-container {\n",
       "  /* jupyter's `normalize.less` sets `[hidden] { display: none; }`\n",
       "     but bootstrap.min.css set `[hidden] { display: none !important; }`\n",
       "     so we also need the `!important` here to be able to override the\n",
       "     default hidden behavior on the sphinx rendered scikit-learn.org.\n",
       "     See: https://github.com/scikit-learn/scikit-learn/issues/21755 */\n",
       "  display: inline-block !important;\n",
       "  position: relative;\n",
       "}\n",
       "\n",
       "#sk-container-id-1 div.sk-text-repr-fallback {\n",
       "  display: none;\n",
       "}\n",
       "\n",
       "div.sk-parallel-item,\n",
       "div.sk-serial,\n",
       "div.sk-item {\n",
       "  /* draw centered vertical line to link estimators */\n",
       "  background-image: linear-gradient(var(--sklearn-color-text-on-default-background), var(--sklearn-color-text-on-default-background));\n",
       "  background-size: 2px 100%;\n",
       "  background-repeat: no-repeat;\n",
       "  background-position: center center;\n",
       "}\n",
       "\n",
       "/* Parallel-specific style estimator block */\n",
       "\n",
       "#sk-container-id-1 div.sk-parallel-item::after {\n",
       "  content: \"\";\n",
       "  width: 100%;\n",
       "  border-bottom: 2px solid var(--sklearn-color-text-on-default-background);\n",
       "  flex-grow: 1;\n",
       "}\n",
       "\n",
       "#sk-container-id-1 div.sk-parallel {\n",
       "  display: flex;\n",
       "  align-items: stretch;\n",
       "  justify-content: center;\n",
       "  background-color: var(--sklearn-color-background);\n",
       "  position: relative;\n",
       "}\n",
       "\n",
       "#sk-container-id-1 div.sk-parallel-item {\n",
       "  display: flex;\n",
       "  flex-direction: column;\n",
       "}\n",
       "\n",
       "#sk-container-id-1 div.sk-parallel-item:first-child::after {\n",
       "  align-self: flex-end;\n",
       "  width: 50%;\n",
       "}\n",
       "\n",
       "#sk-container-id-1 div.sk-parallel-item:last-child::after {\n",
       "  align-self: flex-start;\n",
       "  width: 50%;\n",
       "}\n",
       "\n",
       "#sk-container-id-1 div.sk-parallel-item:only-child::after {\n",
       "  width: 0;\n",
       "}\n",
       "\n",
       "/* Serial-specific style estimator block */\n",
       "\n",
       "#sk-container-id-1 div.sk-serial {\n",
       "  display: flex;\n",
       "  flex-direction: column;\n",
       "  align-items: center;\n",
       "  background-color: var(--sklearn-color-background);\n",
       "  padding-right: 1em;\n",
       "  padding-left: 1em;\n",
       "}\n",
       "\n",
       "\n",
       "/* Toggleable style: style used for estimator/Pipeline/ColumnTransformer box that is\n",
       "clickable and can be expanded/collapsed.\n",
       "- Pipeline and ColumnTransformer use this feature and define the default style\n",
       "- Estimators will overwrite some part of the style using the `sk-estimator` class\n",
       "*/\n",
       "\n",
       "/* Pipeline and ColumnTransformer style (default) */\n",
       "\n",
       "#sk-container-id-1 div.sk-toggleable {\n",
       "  /* Default theme specific background. It is overwritten whether we have a\n",
       "  specific estimator or a Pipeline/ColumnTransformer */\n",
       "  background-color: var(--sklearn-color-background);\n",
       "}\n",
       "\n",
       "/* Toggleable label */\n",
       "#sk-container-id-1 label.sk-toggleable__label {\n",
       "  cursor: pointer;\n",
       "  display: block;\n",
       "  width: 100%;\n",
       "  margin-bottom: 0;\n",
       "  padding: 0.5em;\n",
       "  box-sizing: border-box;\n",
       "  text-align: center;\n",
       "}\n",
       "\n",
       "#sk-container-id-1 label.sk-toggleable__label-arrow:before {\n",
       "  /* Arrow on the left of the label */\n",
       "  content: \"▸\";\n",
       "  float: left;\n",
       "  margin-right: 0.25em;\n",
       "  color: var(--sklearn-color-icon);\n",
       "}\n",
       "\n",
       "#sk-container-id-1 label.sk-toggleable__label-arrow:hover:before {\n",
       "  color: var(--sklearn-color-text);\n",
       "}\n",
       "\n",
       "/* Toggleable content - dropdown */\n",
       "\n",
       "#sk-container-id-1 div.sk-toggleable__content {\n",
       "  max-height: 0;\n",
       "  max-width: 0;\n",
       "  overflow: hidden;\n",
       "  text-align: left;\n",
       "  /* unfitted */\n",
       "  background-color: var(--sklearn-color-unfitted-level-0);\n",
       "}\n",
       "\n",
       "#sk-container-id-1 div.sk-toggleable__content.fitted {\n",
       "  /* fitted */\n",
       "  background-color: var(--sklearn-color-fitted-level-0);\n",
       "}\n",
       "\n",
       "#sk-container-id-1 div.sk-toggleable__content pre {\n",
       "  margin: 0.2em;\n",
       "  border-radius: 0.25em;\n",
       "  color: var(--sklearn-color-text);\n",
       "  /* unfitted */\n",
       "  background-color: var(--sklearn-color-unfitted-level-0);\n",
       "}\n",
       "\n",
       "#sk-container-id-1 div.sk-toggleable__content.fitted pre {\n",
       "  /* unfitted */\n",
       "  background-color: var(--sklearn-color-fitted-level-0);\n",
       "}\n",
       "\n",
       "#sk-container-id-1 input.sk-toggleable__control:checked~div.sk-toggleable__content {\n",
       "  /* Expand drop-down */\n",
       "  max-height: 200px;\n",
       "  max-width: 100%;\n",
       "  overflow: auto;\n",
       "}\n",
       "\n",
       "#sk-container-id-1 input.sk-toggleable__control:checked~label.sk-toggleable__label-arrow:before {\n",
       "  content: \"▾\";\n",
       "}\n",
       "\n",
       "/* Pipeline/ColumnTransformer-specific style */\n",
       "\n",
       "#sk-container-id-1 div.sk-label input.sk-toggleable__control:checked~label.sk-toggleable__label {\n",
       "  color: var(--sklearn-color-text);\n",
       "  background-color: var(--sklearn-color-unfitted-level-2);\n",
       "}\n",
       "\n",
       "#sk-container-id-1 div.sk-label.fitted input.sk-toggleable__control:checked~label.sk-toggleable__label {\n",
       "  background-color: var(--sklearn-color-fitted-level-2);\n",
       "}\n",
       "\n",
       "/* Estimator-specific style */\n",
       "\n",
       "/* Colorize estimator box */\n",
       "#sk-container-id-1 div.sk-estimator input.sk-toggleable__control:checked~label.sk-toggleable__label {\n",
       "  /* unfitted */\n",
       "  background-color: var(--sklearn-color-unfitted-level-2);\n",
       "}\n",
       "\n",
       "#sk-container-id-1 div.sk-estimator.fitted input.sk-toggleable__control:checked~label.sk-toggleable__label {\n",
       "  /* fitted */\n",
       "  background-color: var(--sklearn-color-fitted-level-2);\n",
       "}\n",
       "\n",
       "#sk-container-id-1 div.sk-label label.sk-toggleable__label,\n",
       "#sk-container-id-1 div.sk-label label {\n",
       "  /* The background is the default theme color */\n",
       "  color: var(--sklearn-color-text-on-default-background);\n",
       "}\n",
       "\n",
       "/* On hover, darken the color of the background */\n",
       "#sk-container-id-1 div.sk-label:hover label.sk-toggleable__label {\n",
       "  color: var(--sklearn-color-text);\n",
       "  background-color: var(--sklearn-color-unfitted-level-2);\n",
       "}\n",
       "\n",
       "/* Label box, darken color on hover, fitted */\n",
       "#sk-container-id-1 div.sk-label.fitted:hover label.sk-toggleable__label.fitted {\n",
       "  color: var(--sklearn-color-text);\n",
       "  background-color: var(--sklearn-color-fitted-level-2);\n",
       "}\n",
       "\n",
       "/* Estimator label */\n",
       "\n",
       "#sk-container-id-1 div.sk-label label {\n",
       "  font-family: monospace;\n",
       "  font-weight: bold;\n",
       "  display: inline-block;\n",
       "  line-height: 1.2em;\n",
       "}\n",
       "\n",
       "#sk-container-id-1 div.sk-label-container {\n",
       "  text-align: center;\n",
       "}\n",
       "\n",
       "/* Estimator-specific */\n",
       "#sk-container-id-1 div.sk-estimator {\n",
       "  font-family: monospace;\n",
       "  border: 1px dotted var(--sklearn-color-border-box);\n",
       "  border-radius: 0.25em;\n",
       "  box-sizing: border-box;\n",
       "  margin-bottom: 0.5em;\n",
       "  /* unfitted */\n",
       "  background-color: var(--sklearn-color-unfitted-level-0);\n",
       "}\n",
       "\n",
       "#sk-container-id-1 div.sk-estimator.fitted {\n",
       "  /* fitted */\n",
       "  background-color: var(--sklearn-color-fitted-level-0);\n",
       "}\n",
       "\n",
       "/* on hover */\n",
       "#sk-container-id-1 div.sk-estimator:hover {\n",
       "  /* unfitted */\n",
       "  background-color: var(--sklearn-color-unfitted-level-2);\n",
       "}\n",
       "\n",
       "#sk-container-id-1 div.sk-estimator.fitted:hover {\n",
       "  /* fitted */\n",
       "  background-color: var(--sklearn-color-fitted-level-2);\n",
       "}\n",
       "\n",
       "/* Specification for estimator info (e.g. \"i\" and \"?\") */\n",
       "\n",
       "/* Common style for \"i\" and \"?\" */\n",
       "\n",
       ".sk-estimator-doc-link,\n",
       "a:link.sk-estimator-doc-link,\n",
       "a:visited.sk-estimator-doc-link {\n",
       "  float: right;\n",
       "  font-size: smaller;\n",
       "  line-height: 1em;\n",
       "  font-family: monospace;\n",
       "  background-color: var(--sklearn-color-background);\n",
       "  border-radius: 1em;\n",
       "  height: 1em;\n",
       "  width: 1em;\n",
       "  text-decoration: none !important;\n",
       "  margin-left: 1ex;\n",
       "  /* unfitted */\n",
       "  border: var(--sklearn-color-unfitted-level-1) 1pt solid;\n",
       "  color: var(--sklearn-color-unfitted-level-1);\n",
       "}\n",
       "\n",
       ".sk-estimator-doc-link.fitted,\n",
       "a:link.sk-estimator-doc-link.fitted,\n",
       "a:visited.sk-estimator-doc-link.fitted {\n",
       "  /* fitted */\n",
       "  border: var(--sklearn-color-fitted-level-1) 1pt solid;\n",
       "  color: var(--sklearn-color-fitted-level-1);\n",
       "}\n",
       "\n",
       "/* On hover */\n",
       "div.sk-estimator:hover .sk-estimator-doc-link:hover,\n",
       ".sk-estimator-doc-link:hover,\n",
       "div.sk-label-container:hover .sk-estimator-doc-link:hover,\n",
       ".sk-estimator-doc-link:hover {\n",
       "  /* unfitted */\n",
       "  background-color: var(--sklearn-color-unfitted-level-3);\n",
       "  color: var(--sklearn-color-background);\n",
       "  text-decoration: none;\n",
       "}\n",
       "\n",
       "div.sk-estimator.fitted:hover .sk-estimator-doc-link.fitted:hover,\n",
       ".sk-estimator-doc-link.fitted:hover,\n",
       "div.sk-label-container:hover .sk-estimator-doc-link.fitted:hover,\n",
       ".sk-estimator-doc-link.fitted:hover {\n",
       "  /* fitted */\n",
       "  background-color: var(--sklearn-color-fitted-level-3);\n",
       "  color: var(--sklearn-color-background);\n",
       "  text-decoration: none;\n",
       "}\n",
       "\n",
       "/* Span, style for the box shown on hovering the info icon */\n",
       ".sk-estimator-doc-link span {\n",
       "  display: none;\n",
       "  z-index: 9999;\n",
       "  position: relative;\n",
       "  font-weight: normal;\n",
       "  right: .2ex;\n",
       "  padding: .5ex;\n",
       "  margin: .5ex;\n",
       "  width: min-content;\n",
       "  min-width: 20ex;\n",
       "  max-width: 50ex;\n",
       "  color: var(--sklearn-color-text);\n",
       "  box-shadow: 2pt 2pt 4pt #999;\n",
       "  /* unfitted */\n",
       "  background: var(--sklearn-color-unfitted-level-0);\n",
       "  border: .5pt solid var(--sklearn-color-unfitted-level-3);\n",
       "}\n",
       "\n",
       ".sk-estimator-doc-link.fitted span {\n",
       "  /* fitted */\n",
       "  background: var(--sklearn-color-fitted-level-0);\n",
       "  border: var(--sklearn-color-fitted-level-3);\n",
       "}\n",
       "\n",
       ".sk-estimator-doc-link:hover span {\n",
       "  display: block;\n",
       "}\n",
       "\n",
       "/* \"?\"-specific style due to the `<a>` HTML tag */\n",
       "\n",
       "#sk-container-id-1 a.estimator_doc_link {\n",
       "  float: right;\n",
       "  font-size: 1rem;\n",
       "  line-height: 1em;\n",
       "  font-family: monospace;\n",
       "  background-color: var(--sklearn-color-background);\n",
       "  border-radius: 1rem;\n",
       "  height: 1rem;\n",
       "  width: 1rem;\n",
       "  text-decoration: none;\n",
       "  /* unfitted */\n",
       "  color: var(--sklearn-color-unfitted-level-1);\n",
       "  border: var(--sklearn-color-unfitted-level-1) 1pt solid;\n",
       "}\n",
       "\n",
       "#sk-container-id-1 a.estimator_doc_link.fitted {\n",
       "  /* fitted */\n",
       "  border: var(--sklearn-color-fitted-level-1) 1pt solid;\n",
       "  color: var(--sklearn-color-fitted-level-1);\n",
       "}\n",
       "\n",
       "/* On hover */\n",
       "#sk-container-id-1 a.estimator_doc_link:hover {\n",
       "  /* unfitted */\n",
       "  background-color: var(--sklearn-color-unfitted-level-3);\n",
       "  color: var(--sklearn-color-background);\n",
       "  text-decoration: none;\n",
       "}\n",
       "\n",
       "#sk-container-id-1 a.estimator_doc_link.fitted:hover {\n",
       "  /* fitted */\n",
       "  background-color: var(--sklearn-color-fitted-level-3);\n",
       "}\n",
       "</style><div id=\"sk-container-id-1\" class=\"sk-top-container\"><div class=\"sk-text-repr-fallback\"><pre>RandomForestClassifier(min_samples_split=100, random_state=1)</pre><b>In a Jupyter environment, please rerun this cell to show the HTML representation or trust the notebook. <br />On GitHub, the HTML representation is unable to render, please try loading this page with nbviewer.org.</b></div><div class=\"sk-container\" hidden><div class=\"sk-item\"><div class=\"sk-estimator fitted sk-toggleable\"><input class=\"sk-toggleable__control sk-hidden--visually\" id=\"sk-estimator-id-1\" type=\"checkbox\" checked><label for=\"sk-estimator-id-1\" class=\"sk-toggleable__label fitted sk-toggleable__label-arrow fitted\">&nbsp;&nbsp;RandomForestClassifier<a class=\"sk-estimator-doc-link fitted\" rel=\"noreferrer\" target=\"_blank\" href=\"https://scikit-learn.org/1.4/modules/generated/sklearn.ensemble.RandomForestClassifier.html\">?<span>Documentation for RandomForestClassifier</span></a><span class=\"sk-estimator-doc-link fitted\">i<span>Fitted</span></span></label><div class=\"sk-toggleable__content fitted\"><pre>RandomForestClassifier(min_samples_split=100, random_state=1)</pre></div> </div></div></div></div>"
      ],
      "text/plain": [
       "RandomForestClassifier(min_samples_split=100, random_state=1)"
      ]
     },
     "execution_count": 19,
     "metadata": {},
     "output_type": "execute_result"
    }
   ],
   "source": [
    "from sklearn.ensemble import RandomForestClassifier\n",
    "\n",
    "model = RandomForestClassifier(n_estimators=100, min_samples_split=100, random_state=1)\n",
    "\n",
    "train = sp500.iloc[:-100]\n",
    "test = sp500.iloc[-100:]\n",
    "\n",
    "predictors = [\"Close\", \"Volume\", \"Open\", \"High\", \"Low\"]\n",
    "model.fit(train[predictors], train[\"Target\"])"
   ]
  },
  {
   "cell_type": "code",
   "execution_count": 20,
   "id": "c0837787-5d4e-4a20-ad0d-3a546bc23cdb",
   "metadata": {},
   "outputs": [
    {
     "data": {
      "text/plain": [
       "0.575"
      ]
     },
     "execution_count": 20,
     "metadata": {},
     "output_type": "execute_result"
    }
   ],
   "source": [
    "from sklearn.metrics import precision_score\n",
    "\n",
    "preds = model.predict(test[predictors])\n",
    "preds = pd.Series(preds, index=test.index)\n",
    "precision_score(test[\"Target\"], preds)  #did it actually go up. "
   ]
  },
  {
   "cell_type": "markdown",
   "id": "7f9d34c9-b69d-4376-a66b-57467be7e087",
   "metadata": {},
   "source": [
    "$$\\text{Precision} = \\frac{TP}{TP + FP}$$"
   ]
  },
  {
   "cell_type": "markdown",
   "id": "b98078eb-eb86-44fc-9e66-93001c0eea88",
   "metadata": {},
   "source": [
    "We can't trust this model. Let's do back testing, and also try to incorporate more features "
   ]
  },
  {
   "cell_type": "code",
   "execution_count": 23,
   "id": "e33e349f-8365-4282-91db-3b5824e83262",
   "metadata": {},
   "outputs": [
    {
     "data": {
      "text/plain": [
       "<Axes: xlabel='Date'>"
      ]
     },
     "execution_count": 23,
     "metadata": {},
     "output_type": "execute_result"
    },
    {
     "data": {
      "image/png": "[encoded data removed]",
      "text/plain": [
       "<Figure size 640x480 with 1 Axes>"
      ]
     },
     "metadata": {},
     "output_type": "display_data"
    }
   ],
   "source": [
    "combined = pd.concat([test[\"Target\"], preds], axis=1)\n",
    "combined.plot()"
   ]
  },
  {
   "cell_type": "markdown",
   "id": "ce26b48c-6a91-47aa-a687-7a3dfda7d105",
   "metadata": {},
   "source": [
    "Target is soscillating a lot, but the prediction is almost stable predicting 1 most of the times. Model needs to be improved."
   ]
  },
  {
   "cell_type": "code",
   "execution_count": 25,
   "id": "d4e0fb10-b5be-418c-b03b-05cb14195c40",
   "metadata": {},
   "outputs": [],
   "source": [
    "#back testing "
   ]
  },
  {
   "cell_type": "code",
   "execution_count": 26,
   "id": "06cc0048-c224-4e74-b5eb-2e4a02168f9a",
   "metadata": {},
   "outputs": [],
   "source": [
    "from sklearn.metrics import precision_score, recall_score, accuracy_score, f1_score"
   ]
  },
  {
   "cell_type": "code",
   "execution_count": 27,
   "id": "d4049497-0ee7-4399-83ab-ef61ccf71133",
   "metadata": {},
   "outputs": [],
   "source": [
    "def predict(train, test, predictors, model):\n",
    "    model.fit(train[predictors], train[\"Target\"])\n",
    "    preds = model.predict(test[predictors])\n",
    "    preds = pd.Series(preds, index=test.index, name=\"Predictions\")\n",
    "    combined = pd.concat([test[\"Target\"], preds], axis=1)\n",
    "    return combined"
   ]
  },
  {
   "cell_type": "code",
   "execution_count": 28,
   "id": "ca97d93a-6841-49ef-8f91-25a713baef16",
   "metadata": {},
   "outputs": [],
   "source": [
    "def backtest(data, model, predictors, start=2500, step=250): #10 years of data to train,and predict 11th year, then 11 year data to train and predict 12th year and go on\n",
    "    all_predictions = []\n",
    "\n",
    "    for i in range(start, data.shape[0], step):\n",
    "        train = data.iloc[0:i].copy()\n",
    "        test = data.iloc[i:(i+step)].copy()\n",
    "        predictions = predict(train, test, predictors, model)\n",
    "        all_predictions.append(predictions)\n",
    "        print(accuracy_score(predictions[\"Target\"], predictions[\"Predictions\"]))\n",
    "    \n",
    "    return pd.concat(all_predictions)"
   ]
  },
  {
   "cell_type": "markdown",
   "id": "8da5ca42-2809-479c-939f-2d74a5681793",
   "metadata": {},
   "source": [
    "## Backtest Model 1"
   ]
  },
  {
   "cell_type": "code",
   "execution_count": 30,
   "id": "8a75261f-d2de-4bc6-9364-54d520c63985",
   "metadata": {},
   "outputs": [
    {
     "name": "stdout",
     "output_type": "stream",
     "text": [
      "0.504\n",
      "0.568\n",
      "0.52\n",
      "0.48\n",
      "0.628\n",
      "0.524\n",
      "0.484\n",
      "0.616\n",
      "0.576\n",
      "0.424\n",
      "0.616\n",
      "0.544\n",
      "0.612\n",
      "0.476\n",
      "0.68\n",
      "0.424\n",
      "0.512\n",
      "0.352\n",
      "0.664\n",
      "0.596\n",
      "0.464\n",
      "0.508\n",
      "0.48\n",
      "0.592\n",
      "0.588\n",
      "0.5360824742268041\n"
     ]
    }
   ],
   "source": [
    "predictions = backtest(sp500, model, predictors)"
   ]
  },
  {
   "cell_type": "code",
   "execution_count": 31,
   "id": "09da709d-0375-4c44-be3b-40f00e524436",
   "metadata": {},
   "outputs": [
    {
     "data": {
      "text/plain": [
       "<Axes: xlabel='Date'>"
      ]
     },
     "execution_count": 31,
     "metadata": {},
     "output_type": "execute_result"
    },
    {
     "data": {
      "image/png": "[encoded data removed]",
      "text/plain": [
       "<Figure size 640x480 with 1 Axes>"
      ]
     },
     "metadata": {},
     "output_type": "display_data"
    }
   ],
   "source": [
    "predictions.plot()"
   ]
  },
  {
   "cell_type": "code",
   "execution_count": 32,
   "id": "0a6033a2-46f8-4161-b60e-ad1c6a72b06d",
   "metadata": {},
   "outputs": [],
   "source": [
    "import matplotlib.pyplot as plt\n",
    "\n",
    "def plot_prediction_bands(predictions, title=\"Target vs Predictions: S&P 500 Up Days\"):\n",
    "    \"\"\"\n",
    "    Plots Target vs Prediction with heatmap-style shaded bands indicating:\n",
    "    - True Positives (Correct UP)\n",
    "    - False Positives (Wrong Buy)\n",
    "    - False Negatives (Missed UP)\n",
    "\n",
    "    Parameters:\n",
    "        predictions (pd.DataFrame): Must contain 'Target' and 'Predictions' columns\n",
    "        title (str): Optional title for the plot\n",
    "    \"\"\"\n",
    "    plt.figure(figsize=(16, 5))\n",
    "\n",
    "    # Plot target and prediction lines\n",
    "    plt.plot(predictions.index, predictions[\"Target\"], label=\"Actual (Target)\", color=\"#0077b6\", linewidth=1.8)\n",
    "    plt.plot(predictions.index, predictions[\"Predictions\"], label=\"Prediction\", color=\"#f77f00\", linewidth=1.5, alpha=0.8)\n",
    "\n",
    "    # True Positives\n",
    "    plt.fill_between(predictions.index, 0, 1,\n",
    "                     where=(predictions[\"Target\"] == 1) & (predictions[\"Predictions\"] == 1),\n",
    "                     color='#2a9d8f', alpha=0.3, label='✅ Correct UP (True Positive)')\n",
    "\n",
    "    # False Positives\n",
    "    plt.fill_between(predictions.index, 0, 1,\n",
    "                     where=(predictions[\"Target\"] == 0) & (predictions[\"Predictions\"] == 1),\n",
    "                     color='#e63946', alpha=0.25, label='❌ False Positive (Wrong Buy)')\n",
    "\n",
    "    # False Negatives\n",
    "    plt.fill_between(predictions.index, 0, 1,\n",
    "                     where=(predictions[\"Target\"] == 1) & (predictions[\"Predictions\"] == 0),\n",
    "                     color='#9b5de5', alpha=0.25, label='❌ Missed UP (False Negative)')\n",
    "\n",
    "    # Final formatting\n",
    "    plt.title(title, fontsize=14)\n",
    "    plt.xlabel(\"Date\")\n",
    "    plt.ylabel(\"Up = 1, Down = 0\")\n",
    "    plt.legend(loc='upper right')\n",
    "    plt.grid(True, linestyle='--', linewidth=0.5, alpha=0.7)\n",
    "    plt.tight_layout()\n",
    "    plt.show()"
   ]
  },
  {
   "cell_type": "code",
   "execution_count": 33,
   "id": "5fba75ec-6d3d-4dd6-b500-807a6052f034",
   "metadata": {},
   "outputs": [
    {
     "name": "stderr",
     "output_type": "stream",
     "text": [
      "/var/folders/1h/1px02wgx233fjvxxzjdt1d900000gn/T/ipykernel_64640/3630411649.py:41: UserWarning: Glyph 9989 (\\N{WHITE HEAVY CHECK MARK}) missing from current font.\n",
      "  plt.tight_layout()\n",
      "/var/folders/1h/1px02wgx233fjvxxzjdt1d900000gn/T/ipykernel_64640/3630411649.py:41: UserWarning: Glyph 10060 (\\N{CROSS MARK}) missing from current font.\n",
      "  plt.tight_layout()\n",
      "/opt/anaconda3/lib/python3.12/site-packages/IPython/core/pylabtools.py:170: UserWarning: Glyph 9989 (\\N{WHITE HEAVY CHECK MARK}) missing from current font.\n",
      "  fig.canvas.print_figure(bytes_io, **kw)\n",
      "/opt/anaconda3/lib/python3.12/site-packages/IPython/core/pylabtools.py:170: UserWarning: Glyph 10060 (\\N{CROSS MARK}) missing from current font.\n",
      "  fig.canvas.print_figure(bytes_io, **kw)\n"
     ]
    },
    {
     "data": {
      "image/png": "[encoded data removed]",
      "text/plain": [
       "<Figure size 1600x500 with 1 Axes>"
      ]
     },
     "metadata": {},
     "output_type": "display_data"
    }
   ],
   "source": [
    "plot_prediction_bands(predictions)"
   ]
  },
  {
   "cell_type": "code",
   "execution_count": 34,
   "id": "439d8704-c55d-4d1f-a709-acdc0f485e87",
   "metadata": {},
   "outputs": [
    {
     "data": {
      "text/plain": [
       "Predictions\n",
       "1    3393\n",
       "0    3051\n",
       "Name: count, dtype: int64"
      ]
     },
     "execution_count": 34,
     "metadata": {},
     "output_type": "execute_result"
    }
   ],
   "source": [
    "predictions[\"Predictions\"].value_counts()"
   ]
  },
  {
   "cell_type": "code",
   "execution_count": 35,
   "id": "bf105e8f-6be5-4494-9658-233761f1c4f4",
   "metadata": {},
   "outputs": [
    {
     "data": {
      "text/plain": [
       "(0.6268788682581786, 0.537243947858473)"
      ]
     },
     "execution_count": 35,
     "metadata": {},
     "output_type": "execute_result"
    }
   ],
   "source": [
    "precision_score(predictions[\"Target\"], predictions[\"Predictions\"]), accuracy_score(predictions[\"Target\"], predictions[\"Predictions\"])"
   ]
  },
  {
   "cell_type": "code",
   "execution_count": null,
   "id": "b38dd0c2-bd42-4135-919e-25fbdc41eb27",
   "metadata": {},
   "outputs": [],
   "source": []
  },
  {
   "cell_type": "code",
   "execution_count": 36,
   "id": "eff25a20-375e-444a-b5d3-b558753fc817",
   "metadata": {},
   "outputs": [
    {
     "data": {
      "text/plain": [
       "Target\n",
       "1    0.596369\n",
       "0    0.403631\n",
       "Name: count, dtype: float64"
      ]
     },
     "execution_count": 36,
     "metadata": {},
     "output_type": "execute_result"
    }
   ],
   "source": [
    "predictions[\"Target\"].value_counts() / predictions.shape[0]  #Percentage of times the market actually went up"
   ]
  },
  {
   "cell_type": "markdown",
   "id": "8dc5c1bc-eb5c-498d-a4c8-eff30fb75429",
   "metadata": {},
   "source": [
    "## backtest model 2"
   ]
  },
  {
   "cell_type": "code",
   "execution_count": 38,
   "id": "12437e7c-d03d-442e-9a07-b251517a7de9",
   "metadata": {},
   "outputs": [],
   "source": [
    "#adding additional predictors"
   ]
  },
  {
   "cell_type": "code",
   "execution_count": 39,
   "id": "ed05ece5-f1f4-443a-b179-33c7e709ea4d",
   "metadata": {},
   "outputs": [],
   "source": [
    "horizons = [2,5,60,250,1000]\n",
    "new_predictors = []\n",
    "\n",
    "for horizon in horizons:\n",
    "    rolling_averages = sp500.rolling(horizon).mean()\n",
    "    \n",
    "    ratio_column = f\"Close_Ratio_{horizon}\"\n",
    "    sp500[ratio_column] = sp500[\"Close\"] / rolling_averages[\"Close\"] #ratio of close values. Today's close value with rolling average \n",
    "    \n",
    "    trend_column = f\"Trend_{horizon}\"\n",
    "    sp500[trend_column] = sp500.shift(1).rolling(horizon).sum()[\"Target\"] #how many days in the horizon, price went up.\n",
    "    \n",
    "    new_predictors+= [ratio_column, trend_column]"
   ]
  },
  {
   "cell_type": "code",
   "execution_count": 40,
   "id": "79288ab2-23a6-4104-8aee-577ea997d6a9",
   "metadata": {},
   "outputs": [
    {
     "data": {
      "text/plain": [
       "['Close_Ratio_2',\n",
       " 'Trend_2',\n",
       " 'Close_Ratio_5',\n",
       " 'Trend_5',\n",
       " 'Close_Ratio_60',\n",
       " 'Trend_60',\n",
       " 'Close_Ratio_250',\n",
       " 'Trend_250',\n",
       " 'Close_Ratio_1000',\n",
       " 'Trend_1000']"
      ]
     },
     "execution_count": 40,
     "metadata": {},
     "output_type": "execute_result"
    }
   ],
   "source": [
    "new_predictors"
   ]
  },
  {
   "cell_type": "code",
   "execution_count": 41,
   "id": "4324c657-dfce-4afd-ac0c-954a170497d9",
   "metadata": {},
   "outputs": [],
   "source": [
    "for col in new_predictors:\n",
    "    sp500[col] = sp500[col].shift(1)"
   ]
  },
  {
   "cell_type": "code",
   "execution_count": 42,
   "id": "6c04ab2d-64ff-4f56-a206-605dcce30372",
   "metadata": {},
   "outputs": [],
   "source": [
    "sp500 = sp500.dropna(subset=sp500.columns[sp500.columns != \"Tomorrow\"])"
   ]
  },
  {
   "cell_type": "code",
   "execution_count": 43,
   "id": "fd7b2523-85a4-477d-975d-9cf64b1ff557",
   "metadata": {},
   "outputs": [
    {
     "data": {
      "text/html": [
       "<div>\n",
       "<style scoped>\n",
       "    .dataframe tbody tr th:only-of-type {\n",
       "        vertical-align: middle;\n",
       "    }\n",
       "\n",
       "    .dataframe tbody tr th {\n",
       "        vertical-align: top;\n",
       "    }\n",
       "\n",
       "    .dataframe thead th {\n",
       "        text-align: right;\n",
       "    }\n",
       "</style>\n",
       "<table border=\"1\" class=\"dataframe\">\n",
       "  <thead>\n",
       "    <tr style=\"text-align: right;\">\n",
       "      <th></th>\n",
       "      <th>Open</th>\n",
       "      <th>High</th>\n",
       "      <th>Low</th>\n",
       "      <th>Volume</th>\n",
       "      <th>Close</th>\n",
       "      <th>Tomorrow</th>\n",
       "      <th>Target</th>\n",
       "      <th>Close_Ratio_2</th>\n",
       "      <th>Trend_2</th>\n",
       "      <th>Close_Ratio_5</th>\n",
       "      <th>Trend_5</th>\n",
       "      <th>Close_Ratio_60</th>\n",
       "      <th>Trend_60</th>\n",
       "      <th>Close_Ratio_250</th>\n",
       "      <th>Trend_250</th>\n",
       "      <th>Close_Ratio_1000</th>\n",
       "      <th>Trend_1000</th>\n",
       "    </tr>\n",
       "    <tr>\n",
       "      <th>Date</th>\n",
       "      <th></th>\n",
       "      <th></th>\n",
       "      <th></th>\n",
       "      <th></th>\n",
       "      <th></th>\n",
       "      <th></th>\n",
       "      <th></th>\n",
       "      <th></th>\n",
       "      <th></th>\n",
       "      <th></th>\n",
       "      <th></th>\n",
       "      <th></th>\n",
       "      <th></th>\n",
       "      <th></th>\n",
       "      <th></th>\n",
       "      <th></th>\n",
       "      <th></th>\n",
       "    </tr>\n",
       "  </thead>\n",
       "  <tbody>\n",
       "    <tr>\n",
       "      <th>1993-12-15 05:00:00</th>\n",
       "      <td>463.059998</td>\n",
       "      <td>463.690002</td>\n",
       "      <td>461.839996</td>\n",
       "      <td>331770000</td>\n",
       "      <td>463.632330</td>\n",
       "      <td>463.544630</td>\n",
       "      <td>0</td>\n",
       "      <td>0.999382</td>\n",
       "      <td>1.0</td>\n",
       "      <td>0.998994</td>\n",
       "      <td>2.0</td>\n",
       "      <td>1.003684</td>\n",
       "      <td>36.0</td>\n",
       "      <td>1.031681</td>\n",
       "      <td>147.0</td>\n",
       "      <td>1.180219</td>\n",
       "      <td>541.0</td>\n",
       "    </tr>\n",
       "    <tr>\n",
       "      <th>1993-12-16 05:00:00</th>\n",
       "      <td>461.859985</td>\n",
       "      <td>463.980011</td>\n",
       "      <td>461.859985</td>\n",
       "      <td>284620000</td>\n",
       "      <td>463.544630</td>\n",
       "      <td>464.395242</td>\n",
       "      <td>1</td>\n",
       "      <td>0.999172</td>\n",
       "      <td>0.0</td>\n",
       "      <td>0.998067</td>\n",
       "      <td>1.0</td>\n",
       "      <td>1.001776</td>\n",
       "      <td>36.0</td>\n",
       "      <td>1.029721</td>\n",
       "      <td>146.0</td>\n",
       "      <td>1.177955</td>\n",
       "      <td>541.0</td>\n",
       "    </tr>\n",
       "    <tr>\n",
       "      <th>1993-12-17 05:00:00</th>\n",
       "      <td>463.339996</td>\n",
       "      <td>466.380005</td>\n",
       "      <td>463.339996</td>\n",
       "      <td>363750000</td>\n",
       "      <td>464.395242</td>\n",
       "      <td>464.831672</td>\n",
       "      <td>1</td>\n",
       "      <td>0.999905</td>\n",
       "      <td>0.0</td>\n",
       "      <td>0.998495</td>\n",
       "      <td>1.0</td>\n",
       "      <td>1.001336</td>\n",
       "      <td>36.0</td>\n",
       "      <td>1.029287</td>\n",
       "      <td>145.0</td>\n",
       "      <td>1.177417</td>\n",
       "      <td>541.0</td>\n",
       "    </tr>\n",
       "    <tr>\n",
       "      <th>1993-12-20 05:00:00</th>\n",
       "      <td>466.380005</td>\n",
       "      <td>466.899994</td>\n",
       "      <td>465.529999</td>\n",
       "      <td>255900000</td>\n",
       "      <td>464.831672</td>\n",
       "      <td>464.972166</td>\n",
       "      <td>1</td>\n",
       "      <td>1.000917</td>\n",
       "      <td>1.0</td>\n",
       "      <td>1.000443</td>\n",
       "      <td>2.0</td>\n",
       "      <td>1.002905</td>\n",
       "      <td>36.0</td>\n",
       "      <td>1.030936</td>\n",
       "      <td>145.0</td>\n",
       "      <td>1.179254</td>\n",
       "      <td>542.0</td>\n",
       "    </tr>\n",
       "    <tr>\n",
       "      <th>1993-12-21 05:00:00</th>\n",
       "      <td>465.839996</td>\n",
       "      <td>465.920013</td>\n",
       "      <td>464.029999</td>\n",
       "      <td>273370000</td>\n",
       "      <td>464.972166</td>\n",
       "      <td>465.676519</td>\n",
       "      <td>1</td>\n",
       "      <td>1.000470</td>\n",
       "      <td>2.0</td>\n",
       "      <td>1.001445</td>\n",
       "      <td>2.0</td>\n",
       "      <td>1.003570</td>\n",
       "      <td>36.0</td>\n",
       "      <td>1.031663</td>\n",
       "      <td>145.0</td>\n",
       "      <td>1.180035</td>\n",
       "      <td>543.0</td>\n",
       "    </tr>\n",
       "  </tbody>\n",
       "</table>\n",
       "</div>"
      ],
      "text/plain": [
       "                           Open        High         Low     Volume  \\\n",
       "Date                                                                 \n",
       "1993-12-15 05:00:00  463.059998  463.690002  461.839996  331770000   \n",
       "1993-12-16 05:00:00  461.859985  463.980011  461.859985  284620000   \n",
       "1993-12-17 05:00:00  463.339996  466.380005  463.339996  363750000   \n",
       "1993-12-20 05:00:00  466.380005  466.899994  465.529999  255900000   \n",
       "1993-12-21 05:00:00  465.839996  465.920013  464.029999  273370000   \n",
       "\n",
       "                          Close    Tomorrow  Target  Close_Ratio_2  Trend_2  \\\n",
       "Date                                                                          \n",
       "1993-12-15 05:00:00  463.632330  463.544630       0       0.999382      1.0   \n",
       "1993-12-16 05:00:00  463.544630  464.395242       1       0.999172      0.0   \n",
       "1993-12-17 05:00:00  464.395242  464.831672       1       0.999905      0.0   \n",
       "1993-12-20 05:00:00  464.831672  464.972166       1       1.000917      1.0   \n",
       "1993-12-21 05:00:00  464.972166  465.676519       1       1.000470      2.0   \n",
       "\n",
       "                     Close_Ratio_5  Trend_5  Close_Ratio_60  Trend_60  \\\n",
       "Date                                                                    \n",
       "1993-12-15 05:00:00       0.998994      2.0        1.003684      36.0   \n",
       "1993-12-16 05:00:00       0.998067      1.0        1.001776      36.0   \n",
       "1993-12-17 05:00:00       0.998495      1.0        1.001336      36.0   \n",
       "1993-12-20 05:00:00       1.000443      2.0        1.002905      36.0   \n",
       "1993-12-21 05:00:00       1.001445      2.0        1.003570      36.0   \n",
       "\n",
       "                     Close_Ratio_250  Trend_250  Close_Ratio_1000  Trend_1000  \n",
       "Date                                                                           \n",
       "1993-12-15 05:00:00         1.031681      147.0          1.180219       541.0  \n",
       "1993-12-16 05:00:00         1.029721      146.0          1.177955       541.0  \n",
       "1993-12-17 05:00:00         1.029287      145.0          1.177417       541.0  \n",
       "1993-12-20 05:00:00         1.030936      145.0          1.179254       542.0  \n",
       "1993-12-21 05:00:00         1.031663      145.0          1.180035       543.0  "
      ]
     },
     "execution_count": 43,
     "metadata": {},
     "output_type": "execute_result"
    }
   ],
   "source": [
    "sp500.head()"
   ]
  },
  {
   "cell_type": "code",
   "execution_count": 44,
   "id": "a843303c-a247-4f6d-9505-cc711ca95afa",
   "metadata": {},
   "outputs": [],
   "source": [
    "model = RandomForestClassifier(n_estimators=200, min_samples_split=50, random_state=1)\n",
    "def predict(train, test, predictors, model):\n",
    "    model.fit(train[predictors], train[\"Target\"])\n",
    "    preds = model.predict_proba(test[predictors])[:,1]\n",
    "    preds[preds >=.6] = 1\n",
    "    preds[preds <.6] = 0\n",
    "    preds = pd.Series(preds, index=test.index, name=\"Predictions\")\n",
    "    combined = pd.concat([test[\"Target\"], preds], axis=1)\n",
    "    return combined"
   ]
  },
  {
   "cell_type": "code",
   "execution_count": 88,
   "id": "fb820946-1275-4914-b6a8-355e96f315b6",
   "metadata": {},
   "outputs": [
    {
     "name": "stdout",
     "output_type": "stream",
     "text": [
      "0.632\n",
      "0.636\n",
      "0.612\n",
      "0.644\n",
      "0.604\n",
      "0.62\n",
      "0.64\n",
      "0.648\n",
      "0.652\n",
      "0.712\n",
      "0.616\n",
      "0.636\n",
      "0.668\n",
      "0.628\n",
      "0.624\n",
      "0.704\n",
      "0.676\n",
      "0.428\n",
      "0.652\n",
      "0.608\n",
      "0.66\n",
      "0.689119170984456\n"
     ]
    }
   ],
   "source": [
    "predictions = backtest(sp500, model, new_predictors)"
   ]
  },
  {
   "cell_type": "code",
   "execution_count": 90,
   "id": "a73e1816-283a-47ac-af43-4550b80307ef",
   "metadata": {},
   "outputs": [
    {
     "data": {
      "text/plain": [
       "Predictions\n",
       "1.0    2774\n",
       "0.0    2669\n",
       "Name: count, dtype: int64"
      ]
     },
     "execution_count": 90,
     "metadata": {},
     "output_type": "execute_result"
    }
   ],
   "source": [
    "predictions[\"Predictions\"].value_counts()"
   ]
  },
  {
   "cell_type": "code",
   "execution_count": 92,
   "id": "14acc336-4991-4189-bb16-4a8bf53056e1",
   "metadata": {},
   "outputs": [
    {
     "data": {
      "text/plain": [
       "(0.7465753424657534, 0.6353114091493661)"
      ]
     },
     "execution_count": 92,
     "metadata": {},
     "output_type": "execute_result"
    }
   ],
   "source": [
    "precision_score(predictions[\"Target\"], predictions[\"Predictions\"]), accuracy_score(predictions[\"Target\"], predictions[\"Predictions\"])"
   ]
  },
  {
   "cell_type": "code",
   "execution_count": 94,
   "id": "ef9a84a4-6774-4d6f-ae79-e674e24f371f",
   "metadata": {},
   "outputs": [
    {
     "data": {
      "text/plain": [
       "(0.6176558305994632, 0.6760241553778358)"
      ]
     },
     "execution_count": 94,
     "metadata": {},
     "output_type": "execute_result"
    }
   ],
   "source": [
    "recall_score(predictions[\"Target\"], predictions[\"Predictions\"]), f1_score(predictions[\"Target\"], predictions[\"Predictions\"])"
   ]
  },
  {
   "cell_type": "code",
   "execution_count": 96,
   "id": "21b3d365-2157-4229-a785-ae687da0f21f",
   "metadata": {},
   "outputs": [
    {
     "data": {
      "text/plain": [
       "Target\n",
       "1    0.616021\n",
       "0    0.383979\n",
       "Name: count, dtype: float64"
      ]
     },
     "execution_count": 96,
     "metadata": {},
     "output_type": "execute_result"
    }
   ],
   "source": [
    "predictions[\"Target\"].value_counts() / predictions.shape[0]"
   ]
  },
  {
   "cell_type": "code",
   "execution_count": 100,
   "id": "3cda3466-72da-40e3-a86a-11a1bd2bcea7",
   "metadata": {},
   "outputs": [],
   "source": [
    "# This Model performs better , 75% Precision and 63.5% Accuracy "
   ]
  },
  {
   "cell_type": "markdown",
   "id": "ca99ffd5-b6d2-4b0f-b214-bcaa516afd19",
   "metadata": {},
   "source": [
    "Let's try to do hyper parameter tuning as well and see if the model improves or not."
   ]
  },
  {
   "cell_type": "markdown",
   "id": "63436850-9b69-4282-8843-1b3a11bbcb28",
   "metadata": {},
   "source": [
    "## Hyper Parameter Tuning"
   ]
  },
  {
   "cell_type": "code",
   "execution_count": 109,
   "id": "6a0e4d32-deb6-46be-9d6a-9b131827bd1e",
   "metadata": {},
   "outputs": [],
   "source": [
    "param_grid = {\n",
    "    'n_estimators': [50,100, 200],\n",
    "    'min_samples_split': [25, 50, 100],\n",
    "    'max_depth': [5, 10]\n",
    "}"
   ]
  },
  {
   "cell_type": "code",
   "execution_count": 119,
   "id": "9353591e-1204-404d-8f89-9d16a7445573",
   "metadata": {},
   "outputs": [
    {
     "name": "stdout",
     "output_type": "stream",
     "text": [
      "\n",
      "🔍 Testing: n_estimators=50, min_samples_split=25, max_depth=5\n",
      "0.676\n",
      "0.644\n",
      "0.612\n",
      "0.648\n",
      "0.612\n",
      "0.636\n",
      "0.672\n",
      "0.636\n",
      "0.644\n",
      "0.716\n",
      "0.628\n",
      "0.636\n",
      "0.664\n",
      "0.648\n",
      "0.648\n",
      "0.708\n",
      "0.708\n",
      "0.664\n",
      "0.64\n",
      "0.62\n",
      "0.7\n",
      "0.6528497409326425\n",
      "\n",
      "🔍 Testing: n_estimators=50, min_samples_split=25, max_depth=10\n",
      "0.656\n",
      "0.636\n",
      "0.608\n",
      "0.64\n",
      "0.608\n",
      "0.58\n",
      "0.664\n",
      "0.632\n",
      "0.656\n",
      "0.704\n",
      "0.616\n",
      "0.632\n",
      "0.668\n",
      "0.624\n",
      "0.668\n",
      "0.724\n",
      "0.656\n",
      "0.48\n",
      "0.64\n",
      "0.616\n",
      "0.692\n",
      "0.6839378238341969\n",
      "\n",
      "🔍 Testing: n_estimators=50, min_samples_split=50, max_depth=5\n",
      "0.68\n",
      "0.64\n",
      "0.604\n",
      "0.644\n",
      "0.608\n",
      "0.636\n",
      "0.684\n",
      "0.64\n",
      "0.656\n",
      "0.712\n",
      "0.632\n",
      "0.64\n",
      "0.66\n",
      "0.644\n",
      "0.652\n",
      "0.708\n",
      "0.72\n",
      "0.656\n",
      "0.648\n",
      "0.632\n",
      "0.704\n",
      "0.6528497409326425\n",
      "\n",
      "🔍 Testing: n_estimators=50, min_samples_split=50, max_depth=10\n",
      "0.64\n",
      "0.64\n",
      "0.6\n",
      "0.644\n",
      "0.584\n",
      "0.588\n",
      "0.656\n",
      "0.632\n",
      "0.648\n",
      "0.712\n",
      "0.624\n",
      "0.644\n",
      "0.676\n",
      "0.624\n",
      "0.632\n",
      "0.696\n",
      "0.656\n",
      "0.436\n",
      "0.656\n",
      "0.62\n",
      "0.684\n",
      "0.6735751295336787\n",
      "\n",
      "🔍 Testing: n_estimators=50, min_samples_split=100, max_depth=5\n",
      "0.688\n",
      "0.632\n",
      "0.608\n",
      "0.648\n",
      "0.612\n",
      "0.636\n",
      "0.672\n",
      "0.644\n",
      "0.652\n",
      "0.716\n",
      "0.624\n",
      "0.644\n",
      "0.66\n",
      "0.64\n",
      "0.648\n",
      "0.704\n",
      "0.696\n",
      "0.656\n",
      "0.652\n",
      "0.628\n",
      "0.696\n",
      "0.6632124352331606\n",
      "\n",
      "🔍 Testing: n_estimators=50, min_samples_split=100, max_depth=10\n",
      "0.68\n",
      "0.64\n",
      "0.592\n",
      "0.656\n",
      "0.624\n",
      "0.616\n",
      "0.66\n",
      "0.632\n",
      "0.648\n",
      "0.708\n",
      "0.628\n",
      "0.636\n",
      "0.664\n",
      "0.656\n",
      "0.644\n",
      "0.716\n",
      "0.692\n",
      "0.556\n",
      "0.644\n",
      "0.596\n",
      "0.68\n",
      "0.6683937823834197\n",
      "\n",
      "🔍 Testing: n_estimators=100, min_samples_split=25, max_depth=5\n",
      "0.684\n",
      "0.64\n",
      "0.612\n",
      "0.644\n",
      "0.616\n",
      "0.644\n",
      "0.684\n",
      "0.636\n",
      "0.652\n",
      "0.712\n",
      "0.644\n",
      "0.636\n",
      "0.66\n",
      "0.632\n",
      "0.644\n",
      "0.696\n",
      "0.712\n",
      "0.656\n",
      "0.648\n",
      "0.632\n",
      "0.708\n",
      "0.6580310880829016\n",
      "\n",
      "🔍 Testing: n_estimators=100, min_samples_split=25, max_depth=10\n",
      "0.632\n",
      "0.632\n",
      "0.608\n",
      "0.648\n",
      "0.616\n",
      "0.604\n",
      "0.664\n",
      "0.636\n",
      "0.64\n",
      "0.716\n",
      "0.616\n",
      "0.64\n",
      "0.672\n",
      "0.624\n",
      "0.652\n",
      "0.7\n",
      "0.656\n",
      "0.476\n",
      "0.648\n",
      "0.6\n",
      "0.684\n",
      "0.6683937823834197\n",
      "\n",
      "🔍 Testing: n_estimators=100, min_samples_split=50, max_depth=5\n",
      "0.692\n",
      "0.644\n",
      "0.604\n",
      "0.64\n",
      "0.612\n",
      "0.628\n",
      "0.68\n",
      "0.632\n",
      "0.652\n",
      "0.712\n",
      "0.636\n",
      "0.64\n",
      "0.66\n",
      "0.636\n",
      "0.644\n",
      "0.7\n",
      "0.716\n",
      "0.648\n",
      "0.648\n",
      "0.632\n",
      "0.704\n",
      "0.6580310880829016\n",
      "\n",
      "🔍 Testing: n_estimators=100, min_samples_split=50, max_depth=10\n",
      "0.66\n",
      "0.636\n",
      "0.608\n",
      "0.656\n",
      "0.6\n",
      "0.616\n",
      "0.684\n",
      "0.64\n",
      "0.652\n",
      "0.712\n",
      "0.612\n",
      "0.648\n",
      "0.656\n",
      "0.62\n",
      "0.644\n",
      "0.672\n",
      "0.676\n",
      "0.476\n",
      "0.64\n",
      "0.636\n",
      "0.684\n",
      "0.6683937823834197\n",
      "\n",
      "🔍 Testing: n_estimators=100, min_samples_split=100, max_depth=5\n",
      "0.692\n",
      "0.64\n",
      "0.608\n",
      "0.652\n",
      "0.616\n",
      "0.64\n",
      "0.68\n",
      "0.636\n",
      "0.648\n",
      "0.712\n",
      "0.648\n",
      "0.644\n",
      "0.66\n",
      "0.632\n",
      "0.652\n",
      "0.7\n",
      "0.708\n",
      "0.656\n",
      "0.644\n",
      "0.632\n",
      "0.704\n",
      "0.6580310880829016\n",
      "\n",
      "🔍 Testing: n_estimators=100, min_samples_split=100, max_depth=10\n",
      "0.672\n",
      "0.632\n",
      "0.608\n",
      "0.676\n",
      "0.608\n",
      "0.636\n",
      "0.656\n",
      "0.624\n",
      "0.66\n",
      "0.712\n",
      "0.632\n",
      "0.628\n",
      "0.664\n",
      "0.632\n",
      "0.656\n",
      "0.688\n",
      "0.692\n",
      "0.524\n",
      "0.648\n",
      "0.624\n",
      "0.688\n",
      "0.6787564766839378\n",
      "\n",
      "🔍 Testing: n_estimators=200, min_samples_split=25, max_depth=5\n",
      "0.696\n",
      "0.636\n",
      "0.604\n",
      "0.648\n",
      "0.604\n",
      "0.636\n",
      "0.684\n",
      "0.636\n",
      "0.652\n",
      "0.716\n",
      "0.636\n",
      "0.64\n",
      "0.648\n",
      "0.636\n",
      "0.652\n",
      "0.7\n",
      "0.72\n",
      "0.664\n",
      "0.652\n",
      "0.632\n",
      "0.708\n",
      "0.6580310880829016\n",
      "\n",
      "🔍 Testing: n_estimators=200, min_samples_split=25, max_depth=10\n",
      "0.644\n",
      "0.632\n",
      "0.6\n",
      "0.656\n",
      "0.604\n",
      "0.588\n",
      "0.66\n",
      "0.636\n",
      "0.64\n",
      "0.712\n",
      "0.62\n",
      "0.648\n",
      "0.656\n",
      "0.62\n",
      "0.648\n",
      "0.688\n",
      "0.688\n",
      "0.484\n",
      "0.656\n",
      "0.612\n",
      "0.68\n",
      "0.6839378238341969\n",
      "\n",
      "🔍 Testing: n_estimators=200, min_samples_split=50, max_depth=5\n",
      "0.704\n",
      "0.636\n",
      "0.608\n",
      "0.652\n",
      "0.608\n",
      "0.624\n",
      "0.672\n",
      "0.632\n",
      "0.644\n",
      "0.712\n",
      "0.644\n",
      "0.64\n",
      "0.652\n",
      "0.628\n",
      "0.652\n",
      "0.704\n",
      "0.712\n",
      "0.664\n",
      "0.652\n",
      "0.628\n",
      "0.708\n",
      "0.6580310880829016\n",
      "\n",
      "🔍 Testing: n_estimators=200, min_samples_split=50, max_depth=10\n",
      "0.672\n",
      "0.636\n",
      "0.616\n",
      "0.644\n",
      "0.604\n",
      "0.616\n",
      "0.668\n",
      "0.632\n",
      "0.644\n",
      "0.708\n",
      "0.632\n",
      "0.644\n",
      "0.656\n",
      "0.624\n",
      "0.644\n",
      "0.7\n",
      "0.68\n",
      "0.48\n",
      "0.652\n",
      "0.62\n",
      "0.684\n",
      "0.6735751295336787\n",
      "\n",
      "🔍 Testing: n_estimators=200, min_samples_split=100, max_depth=5\n",
      "0.7\n",
      "0.64\n",
      "0.608\n",
      "0.652\n",
      "0.612\n",
      "0.64\n",
      "0.676\n",
      "0.632\n",
      "0.648\n",
      "0.712\n",
      "0.64\n",
      "0.644\n",
      "0.652\n",
      "0.624\n",
      "0.648\n",
      "0.704\n",
      "0.712\n",
      "0.664\n",
      "0.648\n",
      "0.632\n",
      "0.704\n",
      "0.6580310880829016\n",
      "\n",
      "🔍 Testing: n_estimators=200, min_samples_split=100, max_depth=10\n",
      "0.676\n",
      "0.632\n",
      "0.604\n",
      "0.672\n",
      "0.608\n",
      "0.632\n",
      "0.66\n",
      "0.632\n",
      "0.644\n",
      "0.708\n",
      "0.632\n",
      "0.644\n",
      "0.66\n",
      "0.632\n",
      "0.64\n",
      "0.696\n",
      "0.704\n",
      "0.524\n",
      "0.644\n",
      "0.632\n",
      "0.684\n",
      "0.6683937823834197\n",
      "\n",
      "📊 Top Performing Configs:\n"
     ]
    },
    {
     "data": {
      "text/html": [
       "<div>\n",
       "<style scoped>\n",
       "    .dataframe tbody tr th:only-of-type {\n",
       "        vertical-align: middle;\n",
       "    }\n",
       "\n",
       "    .dataframe tbody tr th {\n",
       "        vertical-align: top;\n",
       "    }\n",
       "\n",
       "    .dataframe thead th {\n",
       "        text-align: right;\n",
       "    }\n",
       "</style>\n",
       "<table border=\"1\" class=\"dataframe\">\n",
       "  <thead>\n",
       "    <tr style=\"text-align: right;\">\n",
       "      <th></th>\n",
       "      <th>n_estimators</th>\n",
       "      <th>min_samples_split</th>\n",
       "      <th>max_depth</th>\n",
       "      <th>precision</th>\n",
       "      <th>accuracy</th>\n",
       "    </tr>\n",
       "  </thead>\n",
       "  <tbody>\n",
       "    <tr>\n",
       "      <th>10</th>\n",
       "      <td>100</td>\n",
       "      <td>100</td>\n",
       "      <td>5</td>\n",
       "      <td>0.747505</td>\n",
       "      <td>0.657358</td>\n",
       "    </tr>\n",
       "    <tr>\n",
       "      <th>12</th>\n",
       "      <td>200</td>\n",
       "      <td>25</td>\n",
       "      <td>5</td>\n",
       "      <td>0.746600</td>\n",
       "      <td>0.657174</td>\n",
       "    </tr>\n",
       "    <tr>\n",
       "      <th>2</th>\n",
       "      <td>50</td>\n",
       "      <td>50</td>\n",
       "      <td>5</td>\n",
       "      <td>0.746516</td>\n",
       "      <td>0.656991</td>\n",
       "    </tr>\n",
       "    <tr>\n",
       "      <th>16</th>\n",
       "      <td>200</td>\n",
       "      <td>100</td>\n",
       "      <td>5</td>\n",
       "      <td>0.745617</td>\n",
       "      <td>0.656807</td>\n",
       "    </tr>\n",
       "    <tr>\n",
       "      <th>6</th>\n",
       "      <td>100</td>\n",
       "      <td>25</td>\n",
       "      <td>5</td>\n",
       "      <td>0.747583</td>\n",
       "      <td>0.656807</td>\n",
       "    </tr>\n",
       "    <tr>\n",
       "      <th>14</th>\n",
       "      <td>200</td>\n",
       "      <td>50</td>\n",
       "      <td>5</td>\n",
       "      <td>0.744955</td>\n",
       "      <td>0.656072</td>\n",
       "    </tr>\n",
       "    <tr>\n",
       "      <th>4</th>\n",
       "      <td>50</td>\n",
       "      <td>100</td>\n",
       "      <td>5</td>\n",
       "      <td>0.745105</td>\n",
       "      <td>0.655337</td>\n",
       "    </tr>\n",
       "    <tr>\n",
       "      <th>8</th>\n",
       "      <td>100</td>\n",
       "      <td>50</td>\n",
       "      <td>5</td>\n",
       "      <td>0.745430</td>\n",
       "      <td>0.655337</td>\n",
       "    </tr>\n",
       "    <tr>\n",
       "      <th>0</th>\n",
       "      <td>50</td>\n",
       "      <td>25</td>\n",
       "      <td>5</td>\n",
       "      <td>0.745672</td>\n",
       "      <td>0.655153</td>\n",
       "    </tr>\n",
       "    <tr>\n",
       "      <th>11</th>\n",
       "      <td>100</td>\n",
       "      <td>100</td>\n",
       "      <td>10</td>\n",
       "      <td>0.748179</td>\n",
       "      <td>0.646886</td>\n",
       "    </tr>\n",
       "  </tbody>\n",
       "</table>\n",
       "</div>"
      ],
      "text/plain": [
       "    n_estimators  min_samples_split  max_depth  precision  accuracy\n",
       "10           100                100          5   0.747505  0.657358\n",
       "12           200                 25          5   0.746600  0.657174\n",
       "2             50                 50          5   0.746516  0.656991\n",
       "16           200                100          5   0.745617  0.656807\n",
       "6            100                 25          5   0.747583  0.656807\n",
       "14           200                 50          5   0.744955  0.656072\n",
       "4             50                100          5   0.745105  0.655337\n",
       "8            100                 50          5   0.745430  0.655337\n",
       "0             50                 25          5   0.745672  0.655153\n",
       "11           100                100         10   0.748179  0.646886"
      ]
     },
     "metadata": {},
     "output_type": "display_data"
    }
   ],
   "source": [
    "results = []\n",
    "# Loop over combinations\n",
    "for n in param_grid['n_estimators']:\n",
    "    for split in param_grid['min_samples_split']:\n",
    "        for depth in param_grid['max_depth']:\n",
    "            print(f\"\\n🔍 Testing: n_estimators={n}, min_samples_split={split}, max_depth={depth}\")\n",
    "\n",
    "            model = RandomForestClassifier(\n",
    "                n_estimators=n,\n",
    "                min_samples_split=split,\n",
    "                max_depth=depth,\n",
    "                random_state=1\n",
    "            )\n",
    "\n",
    "            # Run your backtest\n",
    "            predictions = backtest(sp500, model, new_predictors)\n",
    "            precision = precision_score(predictions[\"Target\"], predictions[\"Predictions\"], zero_division=0)\n",
    "            accuracy = accuracy_score(predictions[\"Target\"], predictions[\"Predictions\"])\n",
    "\n",
    "            # Save results\n",
    "            results.append({\n",
    "                'n_estimators': n,\n",
    "                'min_samples_split': split,\n",
    "                'max_depth': depth,\n",
    "                'precision': precision,\n",
    "                'accuracy': accuracy\n",
    "            })\n",
    "\n",
    "# Show sorted results\n",
    "import pandas as pd\n",
    "results_df = pd.DataFrame(results).sort_values(by='accuracy', ascending=False)\n",
    "print(\"\\n📊 Top Performing Configs:\")\n",
    "display(results_df.head(10))"
   ]
  },
  {
   "cell_type": "markdown",
   "id": "60b55f70-0829-40b3-90a9-d90789fdd949",
   "metadata": {},
   "source": [
    "model performs better at combination n_estimators=100, min_samples_split=100, max_depth=5"
   ]
  },
  {
   "cell_type": "markdown",
   "id": "20922940-6e25-4d25-b9ff-94dbdadeae62",
   "metadata": {},
   "source": [
    "This is the END. I tried differnet things to improve the performance of the model but it didnt work out."
   ]
  },
  {
   "cell_type": "code",
   "execution_count": null,
   "id": "f647bdd2-7e35-4e73-90b2-c5be23e9c28c",
   "metadata": {},
   "outputs": [],
   "source": []
  },
  {
   "cell_type": "markdown",
   "id": "c3626205-eb4f-411f-8c15-b8bc356108c2",
   "metadata": {},
   "source": [
    "## back test model 2.5"
   ]
  },
  {
   "cell_type": "code",
   "execution_count": null,
   "id": "e125e6fa-532c-4228-848b-16a8f5f19b56",
   "metadata": {},
   "outputs": [],
   "source": [
    "sp500['MA_10'] = sp500['Close'].rolling(10).mean()\n",
    "sp500['MA_50'] = sp500['Close'].rolling(50).mean()\n",
    "\n",
    "# Crossover: 1 if short MA above long MA → bullish trend\n",
    "sp500['MA_Crossover'] = (sp500['MA_10'] > sp500['MA_50']).astype(int)"
   ]
  },
  {
   "cell_type": "code",
   "execution_count": null,
   "id": "71f4b56b-3efd-4d4a-96c1-06981bb7c22e",
   "metadata": {},
   "outputs": [],
   "source": [
    "predictors_1 = ['MA_10', 'MA_50','MA_Crossover' ]"
   ]
  },
  {
   "cell_type": "code",
   "execution_count": null,
   "id": "125e9f46-09c3-47b9-80eb-482c2da4b6c9",
   "metadata": {},
   "outputs": [],
   "source": [
    "for col in predictors_1:\n",
    "    sp500[col] = sp500[col].shift(1)"
   ]
  },
  {
   "cell_type": "code",
   "execution_count": null,
   "id": "37217d11-658b-4be0-a25a-c3d673465902",
   "metadata": {},
   "outputs": [],
   "source": [
    "new_predictors+=['MA_10', 'MA_50','MA_Crossover' ]"
   ]
  },
  {
   "cell_type": "code",
   "execution_count": null,
   "id": "40708ce0-0863-4f11-a08c-fedae57520e1",
   "metadata": {},
   "outputs": [],
   "source": [
    "predictions = backtest(sp500, model, new_predictors)"
   ]
  },
  {
   "cell_type": "code",
   "execution_count": null,
   "id": "1ff3022a-b465-494f-b4f8-75e238284f92",
   "metadata": {},
   "outputs": [],
   "source": [
    "precision_score(predictions[\"Target\"], predictions[\"Predictions\"]), accuracy_score(predictions[\"Target\"], predictions[\"Predictions\"])"
   ]
  },
  {
   "cell_type": "code",
   "execution_count": null,
   "id": "6826e411-ee5a-44c2-b863-d524b7e6d2a4",
   "metadata": {},
   "outputs": [],
   "source": [
    "#This didnt Improve the Model"
   ]
  },
  {
   "cell_type": "code",
   "execution_count": null,
   "id": "ef9f4f90-94c7-44d0-ba48-3def343c6190",
   "metadata": {},
   "outputs": [],
   "source": []
  },
  {
   "cell_type": "markdown",
   "id": "263212e7-2a96-427c-8cfe-0b5e9253e5ea",
   "metadata": {},
   "source": [
    "## backtest model 3"
   ]
  },
  {
   "cell_type": "code",
   "execution_count": null,
   "id": "caa3e1ed-1129-401e-a237-390da3975cef",
   "metadata": {},
   "outputs": [],
   "source": [
    "## Introducing Other New Predictors"
   ]
  },
  {
   "cell_type": "code",
   "execution_count": null,
   "id": "e7d34608-44f5-4779-bfd1-23a73e9d858f",
   "metadata": {},
   "outputs": [],
   "source": [
    "import numpy as np\n",
    "log_hl = np.log(sp500['High'] / sp500['Low'])\n",
    "log_co = np.log(sp500['Close'] / sp500['Open'])\n",
    "sp500['Garman_Klass'] = 0.5 * log_hl ** 2 - (2 * np.log(2) - 1) * log_co ** 2"
   ]
  },
  {
   "cell_type": "markdown",
   "id": "ed6ac995-d9c2-4cc8-86f7-73ea6a6b3a43",
   "metadata": {},
   "source": [
    "**finding the important features for the model**"
   ]
  },
  {
   "cell_type": "code",
   "execution_count": null,
   "id": "8d5ba8b3-ee47-47c8-8681-0fcbf0002ea5",
   "metadata": {},
   "outputs": [],
   "source": [
    "delta = sp500['Close'].diff()\n",
    "gain = (delta.where(delta > 0, 0)).rolling(14).mean()\n",
    "loss = (-delta.where(delta < 0, 0)).rolling(14).mean()\n",
    "RS = gain / loss\n",
    "sp500['RSI'] = 100 - (100 / (1 + RS))"
   ]
  },
  {
   "cell_type": "code",
   "execution_count": null,
   "id": "f8566db7-6012-4674-84ef-1b28a6ca84d5",
   "metadata": {},
   "outputs": [],
   "source": [
    "ma = sp500['Close'].rolling(20).mean()\n",
    "std = sp500['Close'].rolling(20).std()\n",
    "sp500['Boll_Upper'] = ma + 2 * std\n",
    "sp500['Boll_Lower'] = ma - 2 * std\n",
    "sp500['Boll_Width'] = sp500['Boll_Upper'] - sp500['Boll_Lower']"
   ]
  },
  {
   "cell_type": "code",
   "execution_count": null,
   "id": "36df5089-737c-4d40-a0b0-4957b9da3668",
   "metadata": {},
   "outputs": [],
   "source": [
    "sp500.drop(['Boll_Upper', 'Boll_Lower'],inplace=True, axis=1)"
   ]
  },
  {
   "cell_type": "code",
   "execution_count": null,
   "id": "408a28ed-c339-4049-9b1c-3f27cb4c1e9a",
   "metadata": {},
   "outputs": [],
   "source": [
    "high_low = sp500['High'] - sp500['Low']\n",
    "high_close = np.abs(sp500['High'] - sp500['Close'].shift())\n",
    "low_close = np.abs(sp500['Low'] - sp500['Close'].shift())\n",
    "tr = pd.concat([high_low, high_close, low_close], axis=1).max(axis=1)\n",
    "sp500['ATR'] = tr.rolling(14).mean()"
   ]
  },
  {
   "cell_type": "code",
   "execution_count": null,
   "id": "bc991432-1f20-40fd-9150-d81806faca04",
   "metadata": {},
   "outputs": [],
   "source": [
    "ema12 = sp500['Close'].ewm(span=12).mean()\n",
    "ema26 = sp500['Close'].ewm(span=26).mean()\n",
    "sp500['MACD'] = ema12 - ema26\n",
    "sp500['MACD_Signal'] = sp500['MACD'].ewm(span=9).mean()\n",
    "sp500['MACD_Diff'] = sp500['MACD'] - sp500['MACD_Signal']"
   ]
  },
  {
   "cell_type": "code",
   "execution_count": null,
   "id": "fb0fbd20-e434-4674-b8f2-0bcd064a56a3",
   "metadata": {},
   "outputs": [],
   "source": [
    "sp500.drop(['MACD_Signal', 'MACD'],axis=1, inplace=True)"
   ]
  },
  {
   "cell_type": "code",
   "execution_count": null,
   "id": "bf3355d5-3769-45a6-8aaf-da4f80fe920b",
   "metadata": {},
   "outputs": [],
   "source": [
    "sp500['Dollar_Volume'] = sp500['Close'] * sp500['Volume']"
   ]
  },
  {
   "cell_type": "code",
   "execution_count": null,
   "id": "7cb0ca33-3c55-4aa2-9381-df0a76d18fcd",
   "metadata": {},
   "outputs": [],
   "source": [
    "for days in [5, 10, 20, 40]:\n",
    "    sp500[f'Return_{days}d'] = sp500['Close'].pct_change(periods=days)"
   ]
  },
  {
   "cell_type": "code",
   "execution_count": null,
   "id": "1b8d48ad-fb8c-4630-9338-32b4966ab8ff",
   "metadata": {},
   "outputs": [],
   "source": [
    "sp500.dropna(inplace=True)"
   ]
  },
  {
   "cell_type": "code",
   "execution_count": null,
   "id": "3fa515d6-5cf5-4888-951a-c9dcfc48e8be",
   "metadata": {},
   "outputs": [],
   "source": [
    "# 2. Stochastic Oscillator (%K)\n",
    "low_14 = sp500[\"Close\"].rolling(window=14).min()\n",
    "high_14 = sp500[\"Close\"].rolling(window=14).max()\n",
    "sp500[\"Stochastic_%K\"] = 100 * (sp500[\"Close\"] - low_14) / (high_14 - low_14)\n",
    "\n",
    "# 3. Williams %R\n",
    "sp500[\"Williams_%R\"] = -100 * (high_14 - sp500[\"Close\"]) / (high_14 - low_14)\n",
    "\n",
    "# 5. Price Rate of Change (ROC)\n",
    "sp500[\"ROC\"] = sp500[\"Close\"].pct_change(periods=12) * 100\n",
    "\n",
    "# 6. On Balance Volume (OBV)\n",
    "obv = [0]\n",
    "for i in range(1, len(sp500)):\n",
    "    if sp500[\"Close\"].iloc[i] > sp500[\"Close\"].iloc[i-1]:\n",
    "        obv.append(obv[-1] + sp500[\"Volume\"].iloc[i])\n",
    "    elif sp500[\"Close\"].iloc[i] < sp500[\"Close\"].iloc[i-1]:\n",
    "        obv.append(obv[-1] - sp500[\"Volume\"].iloc[i])\n",
    "    else:\n",
    "        obv.append(obv[-1])\n",
    "sp500[\"OBV\"] = obv"
   ]
  },
  {
   "cell_type": "code",
   "execution_count": null,
   "id": "99e90fdd-2302-42b7-bfa2-60c0e1c5615e",
   "metadata": {},
   "outputs": [],
   "source": []
  },
  {
   "cell_type": "code",
   "execution_count": null,
   "id": "76816b0b-c15e-4de8-82a1-d4c7261f57ce",
   "metadata": {},
   "outputs": [],
   "source": []
  },
  {
   "cell_type": "code",
   "execution_count": null,
   "id": "c5085cb0-dac7-4ca9-b0f1-6f7904934828",
   "metadata": {},
   "outputs": [],
   "source": [
    "new_predictors = sp500[sp500.columns[7:]].columns.tolist()"
   ]
  },
  {
   "cell_type": "code",
   "execution_count": null,
   "id": "4d61a129-b658-4d82-9d15-0ae05bfa457c",
   "metadata": {},
   "outputs": [],
   "source": [
    "new_predictors"
   ]
  },
  {
   "cell_type": "code",
   "execution_count": null,
   "id": "215563cc-a555-441c-91ed-d9ccfd11dd7c",
   "metadata": {},
   "outputs": [],
   "source": [
    "new_items = ['Garman_Klass',\n",
    " 'RSI',\n",
    " 'Boll_Width',\n",
    " 'ATR',\n",
    " 'MACD_Diff',\n",
    " 'Dollar_Volume',\n",
    " 'Return_5d',\n",
    " 'Return_10d',\n",
    " 'Return_20d',\n",
    " 'Return_40d','Stochastic_%K',\n",
    " 'Williams_%R',\n",
    " 'ROC',\n",
    " 'OBV']"
   ]
  },
  {
   "cell_type": "code",
   "execution_count": null,
   "id": "c72b775a-84b6-48a6-8438-00423a6e2e49",
   "metadata": {},
   "outputs": [],
   "source": [
    "# Shift each predictor column by 1 to prevent leakage \n",
    "for col in new_items:   #all the predictors were calculated by today's close value which can only be used tomorrow.\n",
    "    sp500[col] = sp500[col].shift(1)"
   ]
  },
  {
   "cell_type": "code",
   "execution_count": null,
   "id": "60ea5d60-23e2-478f-924d-0ee89084a89e",
   "metadata": {},
   "outputs": [],
   "source": [
    "# Drop rows with NaNs caused by shifting\n",
    "sp500.dropna(inplace=True)"
   ]
  },
  {
   "cell_type": "code",
   "execution_count": null,
   "id": "7ac8074d-616b-4036-a4a4-882ebc296727",
   "metadata": {},
   "outputs": [],
   "source": []
  },
  {
   "cell_type": "code",
   "execution_count": null,
   "id": "853b3b3f-9e7a-45a5-a494-0a579f4511c1",
   "metadata": {},
   "outputs": [],
   "source": []
  },
  {
   "cell_type": "code",
   "execution_count": null,
   "id": "890cdf95-a236-4f60-bcb6-6401fa52da6e",
   "metadata": {},
   "outputs": [],
   "source": []
  },
  {
   "cell_type": "code",
   "execution_count": null,
   "id": "2edb8e94-0860-4be0-aa9a-7753171915d9",
   "metadata": {},
   "outputs": [],
   "source": []
  },
  {
   "cell_type": "code",
   "execution_count": null,
   "id": "1bc045fd-5252-4631-a793-bd36be929742",
   "metadata": {},
   "outputs": [],
   "source": [
    "predictions = backtest(sp500, model, new_predictors)"
   ]
  },
  {
   "cell_type": "code",
   "execution_count": null,
   "id": "b547a5d0-c2ea-4ef3-917f-d28cb1c7f19f",
   "metadata": {},
   "outputs": [],
   "source": [
    "precision_score(predictions[\"Target\"], predictions[\"Predictions\"]), accuracy_score(predictions[\"Target\"], predictions[\"Predictions\"])"
   ]
  },
  {
   "cell_type": "code",
   "execution_count": null,
   "id": "b69a18fc-bc49-47c6-abbe-382d24e094b9",
   "metadata": {},
   "outputs": [],
   "source": [
    "#Model Hasn't improved in terms of accuracy"
   ]
  },
  {
   "cell_type": "markdown",
   "id": "27019f60-51ab-402c-b3d0-fa6e8f77f832",
   "metadata": {},
   "source": [
    "## backtest model 4"
   ]
  },
  {
   "cell_type": "code",
   "execution_count": null,
   "id": "aa8bda39-b938-4b48-ba77-1e776a0cff73",
   "metadata": {},
   "outputs": [],
   "source": [
    "## Adding Regime Aware Features"
   ]
  },
  {
   "cell_type": "code",
   "execution_count": null,
   "id": "b463c4ba-25d7-4830-9c04-340258f21f88",
   "metadata": {},
   "outputs": [],
   "source": [
    "sp500['Volatility_20d'] = sp500['Close'].rolling(20).std()\n",
    "\n",
    "# Label regime: Low = 0, Medium = 1, High = 2 based on percentiles\n",
    "sp500['Vol_Regime'] = pd.qcut(sp500['Volatility_20d'], q=3, labels=[0, 1, 2])\n",
    "\t# •\tUses 20-day rolling std dev (1 month)\n",
    "\t# •\tVol_Regime = 0 → Low volatility\n",
    "\t# •\tVol_Regime = 2 → High volatility"
   ]
  },
  {
   "cell_type": "code",
   "execution_count": null,
   "id": "f0689b6e-2d7f-439d-a8fe-3d13f9920641",
   "metadata": {},
   "outputs": [],
   "source": [
    "# sp500['MA_10'] = sp500['Close'].rolling(10).mean()\n",
    "# sp500['MA_50'] = sp500['Close'].rolling(50).mean()\n",
    "\n",
    "# # Crossover: 1 if short MA above long MA → bullish trend\n",
    "# sp500['MA_Crossover'] = (sp500['MA_10'] > sp500['MA_50']).astype(int)\n",
    "\n",
    "# \t# •\tMA10 above MA50 = short-term uptrend\n",
    "# \t# •\tThis binary crossover flag is a powerful trend indicator"
   ]
  },
  {
   "cell_type": "code",
   "execution_count": null,
   "id": "b05f12dd-7491-498a-95a0-4783f2fa38ae",
   "metadata": {},
   "outputs": [],
   "source": [
    "sp500['MA_200'] = sp500['Close'].rolling(200).mean()\n",
    "\n",
    "# Bull flag = 1 if price is above 200-day MA\n",
    "sp500['Bull_Flag'] = (sp500['Close'] > sp500['MA_200']).astype(int)"
   ]
  },
  {
   "cell_type": "code",
   "execution_count": null,
   "id": "85c79d83-264e-4b67-85bd-3d24bc558340",
   "metadata": {},
   "outputs": [],
   "source": [
    "# Shift to avoid leakage\n",
    "for col in ['Vol_Regime', 'Bull_Flag']:\n",
    "    sp500[col] = sp500[col].shift(1)\n",
    "\n",
    "sp500.dropna(inplace=True)"
   ]
  },
  {
   "cell_type": "code",
   "execution_count": null,
   "id": "89f3d5f8-2d2d-4d19-bace-6a528d54f0dc",
   "metadata": {},
   "outputs": [],
   "source": [
    "new_predictors += ['Vol_Regime', 'Bull_Flag']"
   ]
  },
  {
   "cell_type": "code",
   "execution_count": null,
   "id": "89d74fd1-c316-42ff-88d0-602f0060e032",
   "metadata": {},
   "outputs": [],
   "source": [
    "predictions = backtest(sp500, model, new_predictors)"
   ]
  },
  {
   "cell_type": "code",
   "execution_count": null,
   "id": "7f3ae036-f3ef-466c-b6c6-89eacff77272",
   "metadata": {},
   "outputs": [],
   "source": [
    "precision_score(predictions[\"Target\"], predictions[\"Predictions\"]), accuracy_score(predictions[\"Target\"], predictions[\"Predictions\"])"
   ]
  },
  {
   "cell_type": "code",
   "execution_count": null,
   "id": "a4ad865a-db3a-4c3e-aa0d-919650f7d70b",
   "metadata": {},
   "outputs": [],
   "source": [
    "#Model didn't Improve"
   ]
  },
  {
   "cell_type": "code",
   "execution_count": null,
   "id": "12f92891-cbe0-434e-85d0-645e4e3dab98",
   "metadata": {},
   "outputs": [],
   "source": [
    "def check_target_imbalance(data, start=2500, step=250):\n",
    "    for i in range(start, data.shape[0], step):\n",
    "        window = data.iloc[i:i+step].copy()\n",
    "        value_counts = window[\"Target\"].value_counts(normalize=True)  # Proportions\n",
    "        count_values = window[\"Target\"].value_counts()               # Raw counts\n",
    "\n",
    "        print(f\"\\n🧾 Backtest window {i} to {i+step}:\")\n",
    "        print(\"Raw counts:\")\n",
    "        print(count_values.to_string())\n",
    "        print(\"Proportion:\")\n",
    "        print(value_counts.round(3).to_string())\n",
    "\n",
    "        if 1 not in count_values:\n",
    "            print(\"⚠️ Warning: No '1' (up) signals in this window.\")\n",
    "\n",
    "# Run the check\n",
    "check_target_imbalance(sp500)"
   ]
  },
  {
   "cell_type": "markdown",
   "id": "9b71014a-d3b9-4a91-8c1c-2636751e3164",
   "metadata": {},
   "source": [
    "**There is no class imbalance, so we can ignore class_weight='balanced' argument**"
   ]
  },
  {
   "cell_type": "markdown",
   "id": "7596baa3-9599-4fbd-8bad-3b5847d886f3",
   "metadata": {},
   "source": [
    "## Parameter Tuning"
   ]
  },
  {
   "cell_type": "code",
   "execution_count": null,
   "id": "8a4bee1b-c13b-4e33-9398-6130d22db955",
   "metadata": {},
   "outputs": [],
   "source": [
    "from sklearn.ensemble import RandomForestClassifier\n",
    "from sklearn.metrics import precision_score\n",
    "import numpy as np\n",
    "\n",
    "# Parameter grid to test\n",
    "\n",
    "\n",
    "# Store results\n",
    "results = []\n",
    "\n",
    "# Loop over combinations\n",
    "for n in param_grid['n_estimators']:\n",
    "    for split in param_grid['min_samples_split']:\n",
    "        for depth in param_grid['max_depth']:\n",
    "            print(f\"\\n🔍 Testing: n_estimators={n}, min_samples_split={split}, max_depth={depth}\")\n",
    "\n",
    "            model = RandomForestClassifier(\n",
    "                n_estimators=n,\n",
    "                min_samples_split=split,\n",
    "                max_depth=depth,\n",
    "                random_state=1\n",
    "            )\n",
    "\n",
    "            # Run your backtest\n",
    "            predictions = backtest(sp500, model, top_features)\n",
    "            precision = precision_score(predictions[\"Target\"], predictions[\"Predictions\"], zero_division=0)\n",
    "\n",
    "            # Save results\n",
    "            results.append({\n",
    "                'n_estimators': n,\n",
    "                'min_samples_split': split,\n",
    "                'max_depth': depth,\n",
    "                'precision': precision\n",
    "            })\n",
    "\n",
    "# Show sorted results\n",
    "import pandas as pd\n",
    "results_df = pd.DataFrame(results).sort_values(by='precision', ascending=False)\n",
    "print(\"\\n📊 Top Performing Configs:\")\n",
    "display(results_df.head(10))"
   ]
  },
  {
   "cell_type": "code",
   "execution_count": null,
   "id": "a792a43a-1802-4370-8e04-b9fbf144999f",
   "metadata": {},
   "outputs": [],
   "source": []
  },
  {
   "cell_type": "markdown",
   "id": "e9b0760e-7af0-4126-bc9e-a0ec066d3503",
   "metadata": {},
   "source": [
    "**We got good results for backtest model 2. Let's try to tune that**"
   ]
  },
  {
   "cell_type": "code",
   "execution_count": null,
   "id": "aa4aea9b-96e1-4042-a541-ec638cdf4d10",
   "metadata": {},
   "outputs": [],
   "source": [
    "features_model2 = ['Close_Ratio_2',\n",
    " 'Trend_2',\n",
    " 'Close_Ratio_5',\n",
    " 'Trend_5',\n",
    " 'Close_Ratio_60',\n",
    " 'Trend_60',\n",
    " 'Close_Ratio_250',\n",
    " 'Trend_250',\n",
    " 'Close_Ratio_1000',\n",
    " 'Trend_1000']"
   ]
  },
  {
   "cell_type": "code",
   "execution_count": null,
   "id": "43a58dd9-db91-497c-a86f-748ab21f47a3",
   "metadata": {},
   "outputs": [],
   "source": [
    "param_grid = {\n",
    "    'n_estimators': [100, 200],\n",
    "    'min_samples_split': [25, 50, 100],\n",
    "    'max_depth': [None, 5, 10]\n",
    "}"
   ]
  },
  {
   "cell_type": "code",
   "execution_count": null,
   "id": "3a12ddf1-be83-443c-a2b9-7a7f80b8cbb0",
   "metadata": {},
   "outputs": [],
   "source": [
    "# Loop over combinations\n",
    "for n in param_grid['n_estimators']:\n",
    "    for split in param_grid['min_samples_split']:\n",
    "        for depth in param_grid['max_depth']:\n",
    "            print(f\"\\n🔍 Testing: n_estimators={n}, min_samples_split={split}, max_depth={depth}\")\n",
    "\n",
    "            model = RandomForestClassifier(\n",
    "                n_estimators=n,\n",
    "                min_samples_split=split,\n",
    "                max_depth=depth,\n",
    "                random_state=1\n",
    "            )\n",
    "\n",
    "            # Run your backtest\n",
    "            predictions = backtest(sp500, model, features_model2)\n",
    "            precision = precision_score(predictions[\"Target\"], predictions[\"Predictions\"], zero_division=0)\n",
    "\n",
    "            # Save results\n",
    "            results.append({\n",
    "                'n_estimators': n,\n",
    "                'min_samples_split': split,\n",
    "                'max_depth': depth,\n",
    "                'precision': precision\n",
    "            })\n",
    "\n",
    "# Show sorted results\n",
    "import pandas as pd\n",
    "results_df = pd.DataFrame(results).sort_values(by='precision', ascending=False)\n",
    "print(\"\\n📊 Top Performing Configs:\")\n",
    "display(results_df.head(10))"
   ]
  },
  {
   "cell_type": "markdown",
   "id": "043f0c72-cc08-477d-a613-e1ccbb7f6307",
   "metadata": {},
   "source": [
    "**We are getting precision of 0.64 and all these higher values but, these combinations are not giving consistent performance over the years**\n",
    "\n",
    "I have tested these before concluding. \n",
    "\n",
    "So, Among these the model which performed better, i will go ahead with that, mentioning that below."
   ]
  },
  {
   "cell_type": "code",
   "execution_count": null,
   "id": "29fd3fca-0d88-4bb3-91b9-49aa3ed764a1",
   "metadata": {},
   "outputs": [],
   "source": [
    "model = RandomForestClassifier(n_estimators=200,\n",
    "                min_samples_split=50,\n",
    "                random_state=1\n",
    "            )"
   ]
  },
  {
   "cell_type": "code",
   "execution_count": null,
   "id": "e5ad9814-0f0a-4b1b-8cb0-e5f23a400184",
   "metadata": {},
   "outputs": [],
   "source": [
    "def predict(train, test, predictors, model):\n",
    "    model.fit(train[predictors], train[\"Target\"])\n",
    "    preds = model.predict_proba(test[predictors])[:,1]#predict_proba() returns probabilities for each class. [:, 1] selects the probability that the model assigns to the positive class (Target=1) — i.e., the market will go up tomorrow.\n",
    "    preds[preds >=0.6] = 1\n",
    "    preds[preds <0.6] = 0\n",
    "    preds = pd.Series(preds, index=test.index, name=\"Predictions\")\n",
    "    combined = pd.concat([test[\"Target\"], preds], axis=1)\n",
    "    # print(\"Total predicted 1s in this window:\", combined[\"Predictions\"].sum())\n",
    "    return combined"
   ]
  },
  {
   "cell_type": "code",
   "execution_count": null,
   "id": "512bcc25-ecfb-4119-8b97-d249095534be",
   "metadata": {},
   "outputs": [],
   "source": [
    "def backtest(data, model, predictors, start=2500, step=250): #10 years of data to train,and predict 11th year, then 11 year data to train and predict 12th year and go on\n",
    "    all_predictions = []\n",
    "\n",
    "    for i in range(start, data.shape[0], step):\n",
    "        train = data.iloc[0:i].copy()\n",
    "        test = data.iloc[i:(i+step)].copy()\n",
    "        predictions = predict(train, test, predictors, model)\n",
    "        all_predictions.append(predictions)\n",
    "        print(precision_score(predictions[\"Target\"], predictions[\"Predictions\"]))\n",
    "    \n",
    "    return pd.concat(all_predictions)\n",
    "\n"
   ]
  },
  {
   "cell_type": "code",
   "execution_count": null,
   "id": "2cced365-faf6-4e9b-85f6-67bd3e003a92",
   "metadata": {},
   "outputs": [],
   "source": [
    "predictions = backtest(sp500, model, features_model2)"
   ]
  },
  {
   "cell_type": "code",
   "execution_count": null,
   "id": "93f98561-bdae-4510-abb1-2e35fc3db6b5",
   "metadata": {},
   "outputs": [],
   "source": [
    "precision_score(predictions[\"Target\"], predictions[\"Predictions\"]) "
   ]
  },
  {
   "cell_type": "code",
   "execution_count": null,
   "id": "9514af17-fbe0-48c4-b0ec-2d2a0c81cc5c",
   "metadata": {},
   "outputs": [],
   "source": []
  },
  {
   "cell_type": "code",
   "execution_count": null,
   "id": "4da7d2b3-cc51-46ca-9c8a-1f11c0847c64",
   "metadata": {},
   "outputs": [],
   "source": []
  },
  {
   "cell_type": "code",
   "execution_count": null,
   "id": "dad02d55-0332-4f78-8e66-dd60963801bd",
   "metadata": {},
   "outputs": [],
   "source": []
  },
  {
   "cell_type": "markdown",
   "id": "e58f430c-9283-4bf0-9f4f-0b67efbb7009",
   "metadata": {},
   "source": [
    "**Now, let's try to change the target variable by a bit and see how the model performs**"
   ]
  },
  {
   "cell_type": "markdown",
   "id": "e70f70cb-4086-43fc-994d-f9867bacd886",
   "metadata": {},
   "source": [
    "## predicts whether price 5 days later is higher → removes daily noise"
   ]
  },
  {
   "cell_type": "markdown",
   "id": "f43139b6-15e5-4649-864b-115ad60bc056",
   "metadata": {},
   "source": [
    "When we do this, the oscillation reduces. Daily returns are full of short-term volatility. But over 5 days, a real trend has more time to develop, making it more “learnable” by a machine learning model.\n",
    "You’re now predicting a mini-trend, not a single-day wiggle."
   ]
  },
  {
   "cell_type": "code",
   "execution_count": null,
   "id": "761065b2-da22-467b-af16-1e22c16fe95a",
   "metadata": {},
   "outputs": [],
   "source": [
    "sp500[\"Target2\"] = (sp500[\"Close\"].shift(-30) > sp500[\"Close\"]).astype(int)"
   ]
  },
  {
   "cell_type": "code",
   "execution_count": null,
   "id": "d495455f-88e1-4e94-8bae-aa9b78a5386b",
   "metadata": {},
   "outputs": [],
   "source": [
    "sp500.dropna(inplace=True)"
   ]
  },
  {
   "cell_type": "code",
   "execution_count": null,
   "id": "f274ec43-774b-4ca9-b307-e55b3e2c574f",
   "metadata": {},
   "outputs": [],
   "source": [
    "def predict(train, test, predictors, model):\n",
    "    model.fit(train[predictors], train[\"Target2\"])\n",
    "    preds = model.predict_proba(test[predictors])[:,1]#predict_proba() returns probabilities for each class. [:, 1] selects the probability that the model assigns to the positive class (Target=1) — i.e., the market will go up tomorrow.\n",
    "    preds[preds >=0.59] = 1\n",
    "    preds[preds <0.59] = 0\n",
    "    preds = pd.Series(preds, index=test.index, name=\"Predictions\")\n",
    "    combined = pd.concat([test[\"Target2\"], preds], axis=1)\n",
    "    # print(\"Total predicted 1s in this window:\", combined[\"Predictions\"].sum())\n",
    "    return combined"
   ]
  },
  {
   "cell_type": "code",
   "execution_count": null,
   "id": "4ddf39d5-aef6-4598-b551-b566b2f05e19",
   "metadata": {},
   "outputs": [],
   "source": [
    "def backtest(data, model, predictors, start=2500, step=250): #10 years of data to train,and predict 11th year, then 11 year data to train and predict 12th year and go on\n",
    "    all_predictions = []\n",
    "\n",
    "    for i in range(start, data.shape[0], step):\n",
    "        train = data.iloc[0:i].copy()\n",
    "        test = data.iloc[i:(i+step)].copy()\n",
    "        predictions = predict(train, test, predictors, model)\n",
    "        all_predictions.append(predictions)\n",
    "        print(precision_score(predictions[\"Target2\"], predictions[\"Predictions\"]))\n",
    "    \n",
    "    return pd.concat(all_predictions)\n",
    "\n"
   ]
  },
  {
   "cell_type": "code",
   "execution_count": null,
   "id": "587529dc-3146-4061-964a-4dcdf917ed55",
   "metadata": {},
   "outputs": [],
   "source": [
    "predictions = backtest(sp500, model, features_model2)"
   ]
  },
  {
   "cell_type": "code",
   "execution_count": null,
   "id": "8fb6d2aa-7060-47ca-8a2e-d43724baab65",
   "metadata": {},
   "outputs": [],
   "source": [
    "precision_score(predictions[\"Target2\"], predictions[\"Predictions\"]) "
   ]
  },
  {
   "cell_type": "code",
   "execution_count": null,
   "id": "9ae4ef0c-abd1-40f5-b8f2-7c494a067893",
   "metadata": {},
   "outputs": [],
   "source": [
    "importances = model.feature_importances_\n",
    "feature_importance_df = pd.DataFrame({\n",
    "    'Feature': features_model2,\n",
    "    'Importance': importances\n",
    "}).sort_values(by='Importance', ascending=False)\n",
    "\n",
    "feature_importance_df = feature_importance_df.reset_index()\n",
    "feature_importance_df"
   ]
  },
  {
   "cell_type": "code",
   "execution_count": null,
   "id": "7a21dfde-92a2-4cc3-9658-3f3cc29f3c34",
   "metadata": {},
   "outputs": [],
   "source": []
  },
  {
   "cell_type": "code",
   "execution_count": null,
   "id": "8f04679a-80be-4c05-a4b3-daaadd2c9eab",
   "metadata": {},
   "outputs": [],
   "source": []
  },
  {
   "cell_type": "code",
   "execution_count": null,
   "id": "2175f349-76d8-4f4e-b7c0-4507b52efb2b",
   "metadata": {},
   "outputs": [],
   "source": []
  },
  {
   "cell_type": "markdown",
   "id": "03a95667-8de2-4c75-a5a9-582f89335393",
   "metadata": {},
   "source": [
    "### Logistic Regression"
   ]
  },
  {
   "cell_type": "code",
   "execution_count": null,
   "id": "bf220eea-4df2-4780-8fba-2c6bf37b8750",
   "metadata": {},
   "outputs": [],
   "source": [
    "import pandas as pd\n",
    "from sklearn.linear_model import LogisticRegression\n",
    "from sklearn.metrics import precision_score, accuracy_score, recall_score\n",
    "from sklearn.model_selection import train_test_split\n",
    "from sklearn.preprocessing import StandardScaler"
   ]
  },
  {
   "cell_type": "code",
   "execution_count": null,
   "id": "3e631d09-11a9-4c81-9b73-dd7c31ad1de5",
   "metadata": {},
   "outputs": [],
   "source": [
    "data"
   ]
  },
  {
   "cell_type": "code",
   "execution_count": null,
   "id": "c9f0b7c9-37f7-4328-9bef-d510acd57eb5",
   "metadata": {},
   "outputs": [],
   "source": [
    "# Drop rows with missing values (if not already done)\n",
    "data = sp500.dropna()\n",
    "\n",
    "# Define features and target\n",
    "X = data.drop(columns=[\"Target\",\"Tomorrow\"],axis=1)\n",
    "y = data[\"Target\"]\n"
   ]
  },
  {
   "cell_type": "code",
   "execution_count": null,
   "id": "877e05e2-f592-43f4-a617-c1ab2ec87757",
   "metadata": {},
   "outputs": [],
   "source": [
    "scaler = StandardScaler()\n",
    "X_scaled = scaler.fit_transform(X)"
   ]
  },
  {
   "cell_type": "code",
   "execution_count": null,
   "id": "6698fc74-de09-4469-8950-ba115b041b23",
   "metadata": {},
   "outputs": [],
   "source": [
    "# Use 80% for training, 20% for testing (no shuffling for time series)\n",
    "split_point = int(0.8 * len(data))\n",
    "X_train, X_test = X_scaled[:split_point], X_scaled[split_point:]\n",
    "y_train, y_test = y[:split_point], y[split_point:]"
   ]
  },
  {
   "cell_type": "code",
   "execution_count": null,
   "id": "90313b86-9e1b-4674-ba68-d0d72f78b10b",
   "metadata": {},
   "outputs": [],
   "source": [
    "model = LogisticRegression(max_iter=1000)\n",
    "model.fit(X_train, y_train)"
   ]
  },
  {
   "cell_type": "code",
   "execution_count": null,
   "id": "f5766e35-9c5d-4efc-84bb-e7f52c25dad2",
   "metadata": {},
   "outputs": [],
   "source": [
    "y_pred = model.predict(X_test)\n",
    "\n",
    "# Evaluate\n",
    "precision = precision_score(y_test, y_pred)\n",
    "accuracy = accuracy_score(y_test, y_pred)\n",
    "recall = recall_score(y_test, y_pred)\n",
    "\n",
    "print(f\"Precision: {precision:.4f}\")\n",
    "print(f\"Accuracy:  {accuracy:.4f}\")\n",
    "print(f\"Recall:    {recall:.4f}\")"
   ]
  },
  {
   "cell_type": "code",
   "execution_count": null,
   "id": "69fee226-3a97-4f34-9f26-378c48ebcfbb",
   "metadata": {},
   "outputs": [],
   "source": [
    "feature_importance = pd.Series(model.coef_[0], index=data.columns.drop(['Target','Tomorrow']))\n",
    "print(feature_importance.sort_values(ascending=False))"
   ]
  },
  {
   "cell_type": "markdown",
   "id": "7e415eff-f133-44b4-bcad-1f767cea2c2e",
   "metadata": {},
   "source": [
    "### Logistic Regression Model 2, After selecting top features"
   ]
  },
  {
   "cell_type": "code",
   "execution_count": null,
   "id": "2b17edaa-eff7-4a80-a79c-2f3645880da0",
   "metadata": {},
   "outputs": [],
   "source": [
    "# Get absolute values and sort\n",
    "top_features = feature_importance.abs().sort_values(ascending=False).head(10).index\n",
    "print(top_features)\n",
    "# Filter the original data\n",
    "X_selected = data[top_features]\n",
    "y = data[\"Target\"]\n"
   ]
  },
  {
   "cell_type": "code",
   "execution_count": null,
   "id": "3c98594e-1662-4541-8cb2-57ee7a275f1b",
   "metadata": {},
   "outputs": [],
   "source": [
    "scaler = StandardScaler()\n",
    "X_scaled = scaler.fit_transform(X_selected)"
   ]
  },
  {
   "cell_type": "code",
   "execution_count": null,
   "id": "31e95b44-9ade-471e-820b-efe9541b9194",
   "metadata": {},
   "outputs": [],
   "source": [
    "# Use 80% for training, 20% for testing (no shuffling for time series)\n",
    "split_point = int(0.8 * len(data))\n",
    "X_train, X_test = X_scaled[:split_point], X_scaled[split_point:]\n",
    "y_train, y_test = y[:split_point], y[split_point:]"
   ]
  },
  {
   "cell_type": "code",
   "execution_count": null,
   "id": "d47b74e1-4e9f-42cc-9815-95c2539d681d",
   "metadata": {},
   "outputs": [],
   "source": [
    "model = LogisticRegression(max_iter=1000)\n",
    "model.fit(X_train, y_train)"
   ]
  },
  {
   "cell_type": "code",
   "execution_count": null,
   "id": "d27de117-575d-45d3-b270-046f9db862a9",
   "metadata": {},
   "outputs": [],
   "source": [
    "y_pred = model.predict(X_test)\n",
    "\n",
    "# Evaluate\n",
    "precision = precision_score(y_test, y_pred)\n",
    "accuracy = accuracy_score(y_test, y_pred)\n",
    "recall = recall_score(y_test, y_pred)\n",
    "\n",
    "print(f\"Precision: {precision:.4f}\")\n",
    "print(f\"Accuracy:  {accuracy:.4f}\")\n",
    "print(f\"Recall:    {recall:.4f}\")"
   ]
  },
  {
   "cell_type": "code",
   "execution_count": null,
   "id": "8e4c8d7b-be61-409d-addb-d439c4415627",
   "metadata": {},
   "outputs": [],
   "source": []
  },
  {
   "cell_type": "markdown",
   "id": "aa58e721-946a-4230-9681-237e1ed2e738",
   "metadata": {},
   "source": [
    "## XGBoost"
   ]
  },
  {
   "cell_type": "code",
   "execution_count": null,
   "id": "a91449e2-bcc2-43e7-bbe6-192ce1a96019",
   "metadata": {},
   "outputs": [],
   "source": [
    "! pip install xgboost"
   ]
  },
  {
   "cell_type": "code",
   "execution_count": null,
   "id": "eab52970-6cc1-4ff8-a9b5-19b1f59a0f87",
   "metadata": {},
   "outputs": [],
   "source": [
    "import pandas as pd\n",
    "import numpy as np\n",
    "import xgboost as xgb\n",
    "from sklearn.metrics import precision_score, accuracy_score, recall_score\n",
    "from sklearn.preprocessing import StandardScaler\n"
   ]
  },
  {
   "cell_type": "code",
   "execution_count": null,
   "id": "07863564-04c1-48f4-a119-6887c747c433",
   "metadata": {},
   "outputs": [],
   "source": [
    "# Drop missing values (if any)\n",
    "data = data.dropna()\n",
    "\n",
    "# Define features and target\n",
    "X = data.drop(columns=[\"Target\",\"Tomorrow\"])\n",
    "y = data[\"Target\"]\n",
    "\n",
    "# Scale features (optional but often helps)\n",
    "scaler = StandardScaler()\n",
    "X_scaled = scaler.fit_transform(X)\n"
   ]
  },
  {
   "cell_type": "code",
   "execution_count": null,
   "id": "eff6e210-f397-4115-9d85-5e71a93cdd92",
   "metadata": {},
   "outputs": [],
   "source": [
    "# Use 80% of data for training (chronologically)\n",
    "split_point = int(0.8 * len(data))\n",
    "X_train, X_test = X_scaled[:split_point], X_scaled[split_point:]\n",
    "y_train, y_test = y[:split_point], y[split_point:]"
   ]
  },
  {
   "cell_type": "code",
   "execution_count": null,
   "id": "e9e06b29-c3f7-440d-a56a-de40d7e6a04d",
   "metadata": {},
   "outputs": [],
   "source": [
    "# Initialize model with basic settings\n",
    "model = xgb.XGBClassifier(\n",
    "    n_estimators=100,        # number of trees\n",
    "    max_depth=4,             # tree depth\n",
    "    learning_rate=0.1,       # step size shrinkage\n",
    "    subsample=0.8,           # % of rows per tree\n",
    "    colsample_bytree=0.8,    # % of features per tree\n",
    "    use_label_encoder=False,\n",
    "    eval_metric='logloss'    # avoid warning for label encoder\n",
    ")\n",
    "\n",
    "# Train the model\n",
    "model.fit(X_train, y_train)\n"
   ]
  },
  {
   "cell_type": "code",
   "execution_count": null,
   "id": "ea48fc16-6107-484e-82e4-fd2d09058055",
   "metadata": {},
   "outputs": [],
   "source": [
    "# Predict on test set\n",
    "y_pred = model.predict(X_test)\n",
    "\n",
    "# Evaluate performance\n",
    "precision = precision_score(y_test, y_pred)\n",
    "accuracy = accuracy_score(y_test, y_pred)\n",
    "recall = recall_score(y_test, y_pred)\n",
    "\n",
    "print(f\"Precision: {precision:.4f}\")\n",
    "print(f\"Accuracy:  {accuracy:.4f}\")\n",
    "print(f\"Recall:    {recall:.4f}\")\n"
   ]
  },
  {
   "cell_type": "code",
   "execution_count": null,
   "id": "71de1300-4ffb-4214-9cce-f023655dd46b",
   "metadata": {},
   "outputs": [],
   "source": [
    "import matplotlib.pyplot as plt\n",
    "\n",
    "xgb.plot_importance(model, max_num_features=10, importance_type='gain', height=0.5)\n",
    "plt.title(\"Top 10 Important Features - XGBoost\")\n",
    "plt.tight_layout()\n",
    "plt.show()\n"
   ]
  },
  {
   "cell_type": "code",
   "execution_count": null,
   "id": "6f6afa65-d54c-45bf-8821-e52756290610",
   "metadata": {},
   "outputs": [],
   "source": [
    "import pandas as pd\n",
    "\n",
    "# Get feature importances as a Series (by 'gain' — recommended)\n",
    "importance_dict = model.get_booster().get_score(importance_type='gain')\n",
    "importance_series = pd.Series(importance_dict)\n",
    "\n",
    "# Sort features by importance\n",
    "top_features = importance_series.sort_values(ascending=False)\n",
    "print(top_features)\n"
   ]
  },
  {
   "cell_type": "code",
   "execution_count": null,
   "id": "bfdad885-310b-4af0-bb82-3b97065264a4",
   "metadata": {},
   "outputs": [],
   "source": [
    "# Select top 10 features\n",
    "top_n = 10\n",
    "top_n_features = top_features.head(top_n).index.tolist()\n",
    "print(\"Top N Features:\", top_n_features)\n"
   ]
  },
  {
   "cell_type": "code",
   "execution_count": null,
   "id": "4f53baaa-aa85-4939-b68d-4008c3f20de0",
   "metadata": {},
   "outputs": [],
   "source": [
    "# Get the mapping from XGBoost's internal feature names to your actual column names\n",
    "feature_map = {f\"f{i}\": name for i, name in enumerate(X.columns)}\n",
    "\n",
    "# Apply the mapping to your top features\n",
    "mapped_top_features = [feature_map[f] for f in ['f16', 'f6', 'f24', 'f9', 'f26', 'f14', 'f2', 'f17', 'f19', 'f1']]\n",
    "\n",
    "print(\"Top Features (actual names):\")\n",
    "for feat in mapped_top_features:\n",
    "    print(\"-\", feat)\n"
   ]
  },
  {
   "cell_type": "code",
   "execution_count": null,
   "id": "cd7495ca-e9fa-431b-b242-0ed79793fc56",
   "metadata": {},
   "outputs": [],
   "source": [
    "X_selected = data[mapped_top_features]\n",
    "y = data[\"Target\"]\n"
   ]
  },
  {
   "cell_type": "code",
   "execution_count": null,
   "id": "02b28317-02d6-4e40-868b-676e6646bdd1",
   "metadata": {},
   "outputs": [],
   "source": [
    "from sklearn.preprocessing import StandardScaler\n",
    "\n",
    "# Drop missing values just in case\n",
    "X_selected = X_selected.dropna()\n",
    "y = y[X_selected.index]  # Align target with feature rows\n",
    "\n",
    "# Scale features\n",
    "scaler = StandardScaler()\n",
    "X_scaled = scaler.fit_transform(X_selected)\n"
   ]
  },
  {
   "cell_type": "code",
   "execution_count": null,
   "id": "af90a094-5e21-4652-aeaa-09760115d02b",
   "metadata": {},
   "outputs": [],
   "source": [
    "split_point = int(0.8 * len(X_scaled))\n",
    "X_train, X_test = X_scaled[:split_point], X_scaled[split_point:]\n",
    "y_train, y_test = y[:split_point], y[split_point:]\n"
   ]
  },
  {
   "cell_type": "code",
   "execution_count": null,
   "id": "af45bee0-3bcf-4508-9b92-65725ddcff45",
   "metadata": {},
   "outputs": [],
   "source": [
    "import xgboost as xgb\n",
    "\n",
    "model = xgb.XGBClassifier(\n",
    "    n_estimators=100,\n",
    "    max_depth=4,\n",
    "    learning_rate=0.1,\n",
    "    subsample=0.8,\n",
    "    colsample_bytree=0.8,\n",
    "    use_label_encoder=False,\n",
    "    eval_metric='logloss'\n",
    ")\n",
    "\n",
    "model.fit(X_train, y_train)\n"
   ]
  },
  {
   "cell_type": "code",
   "execution_count": null,
   "id": "90927bd2-ef1f-4401-8a6d-3bb44e901aab",
   "metadata": {},
   "outputs": [],
   "source": [
    "from sklearn.metrics import precision_score, accuracy_score, recall_score\n",
    "\n",
    "y_pred = model.predict(X_test)\n",
    "\n",
    "print(\"Default Threshold (0.5):\")\n",
    "print(\"Precision:\", precision_score(y_test, y_pred))\n",
    "print(\"Accuracy: \", accuracy_score(y_test, y_pred))\n",
    "print(\"Recall:   \", recall_score(y_test, y_pred))\n"
   ]
  },
  {
   "cell_type": "code",
   "execution_count": null,
   "id": "10e5114b-16e3-480a-b504-78e94406cca8",
   "metadata": {},
   "outputs": [],
   "source": [
    "y_probs = model.predict_proba(X_test)[:, 1]\n",
    "custom_threshold = 0.6  # Or experiment with 0.65, 0.7, etc.\n",
    "y_pred_custom = (y_probs > custom_threshold).astype(int)\n",
    "\n",
    "print(f\"Custom Threshold ({custom_threshold}):\")\n",
    "print(\"Precision:\", precision_score(y_test, y_pred_custom))\n",
    "print(\"Accuracy: \", accuracy_score(y_test, y_pred_custom))\n",
    "print(\"Recall:   \", recall_score(y_test, y_pred_custom))\n"
   ]
  },
  {
   "cell_type": "code",
   "execution_count": null,
   "id": "a1763494-5246-492b-a8f2-d65c3efab58a",
   "metadata": {},
   "outputs": [],
   "source": []
  },
  {
   "cell_type": "code",
   "execution_count": null,
   "id": "18dcdc8d-94d3-4bde-be7d-0293d84f91e1",
   "metadata": {},
   "outputs": [],
   "source": []
  },
  {
   "cell_type": "code",
   "execution_count": null,
   "id": "42ba8a0a-00e3-44e5-9c9e-9d07f8bfb15d",
   "metadata": {},
   "outputs": [],
   "source": [
    "from sklearn.metrics import precision_recall_curve\n",
    "import matplotlib.pyplot as plt\n",
    "\n",
    "y_probs = model.predict_proba(X_test)[:, 1]\n",
    "precisions, recalls, thresholds = precision_recall_curve(y_test, y_probs)\n",
    "\n",
    "plt.plot(thresholds, precisions[:-1], label=\"Precision\")\n",
    "plt.plot(thresholds, recalls[:-1], label=\"Recall\")\n",
    "plt.xlabel(\"Threshold\")\n",
    "plt.ylabel(\"Score\")\n",
    "plt.legend()\n",
    "plt.title(\"Precision-Recall vs Threshold\")\n",
    "plt.grid(True)\n",
    "plt.show()\n"
   ]
  },
  {
   "cell_type": "code",
   "execution_count": null,
   "id": "312eea75-de8f-41c6-a41d-ec15d1edfe38",
   "metadata": {},
   "outputs": [],
   "source": []
  },
  {
   "cell_type": "code",
   "execution_count": null,
   "id": "780f979d-e4f1-4c99-b7d1-7f42aa84cc18",
   "metadata": {},
   "outputs": [],
   "source": []
  },
  {
   "cell_type": "code",
   "execution_count": null,
   "id": "9a1ef84e-6230-4d66-94d4-1a029dd75403",
   "metadata": {},
   "outputs": [],
   "source": []
  },
  {
   "cell_type": "code",
   "execution_count": null,
   "id": "ddac6e33-685a-4c55-b1c7-347f8f18e1b6",
   "metadata": {},
   "outputs": [],
   "source": []
  },
  {
   "cell_type": "code",
   "execution_count": null,
   "id": "9398f822-ddae-405e-979a-0531c35c7043",
   "metadata": {},
   "outputs": [],
   "source": []
  },
  {
   "cell_type": "code",
   "execution_count": null,
   "id": "df1e4d48-93eb-4120-9588-16b024da6cc9",
   "metadata": {},
   "outputs": [],
   "source": []
  },
  {
   "cell_type": "code",
   "execution_count": null,
   "id": "0d28e293-450e-4fa4-8223-24335dba0cf3",
   "metadata": {},
   "outputs": [],
   "source": []
  },
  {
   "cell_type": "code",
   "execution_count": null,
   "id": "f4fcd5d1-9672-466a-8e48-c02bbc9f6271",
   "metadata": {},
   "outputs": [],
   "source": []
  },
  {
   "cell_type": "code",
   "execution_count": null,
   "id": "cb6d0f9a-9e6f-43c8-a9d7-1f66ff33ad4d",
   "metadata": {},
   "outputs": [],
   "source": []
  },
  {
   "cell_type": "code",
   "execution_count": null,
   "id": "e254ed22-2a7c-4ff1-aa1c-944007c5d171",
   "metadata": {},
   "outputs": [],
   "source": []
  },
  {
   "cell_type": "code",
   "execution_count": null,
   "id": "2d534441-333d-44b8-98c6-bfe1f555dc2a",
   "metadata": {},
   "outputs": [],
   "source": [
    "1. Parameter tuning\n",
    "2. \n",
    "- compare different models and be able to tell why it worked this way. Be able to explain what you did.\n",
    "- Take a step back and see what would have moved the needle? Approaching only precision score is a good idea?"
   ]
  },
  {
   "cell_type": "code",
   "execution_count": null,
   "id": "4e298dc3-1cab-4446-986d-5fb61da8a363",
   "metadata": {},
   "outputs": [],
   "source": []
  },
  {
   "cell_type": "code",
   "execution_count": null,
   "id": "a20dbb20-cf8a-4937-8f8a-ad2e3cfc3a42",
   "metadata": {},
   "outputs": [],
   "source": []
  },
  {
   "cell_type": "code",
   "execution_count": null,
   "id": "63cd9759-eed6-4e91-a03e-4dd89d9b5b41",
   "metadata": {},
   "outputs": [],
   "source": []
  },
  {
   "cell_type": "code",
   "execution_count": null,
   "id": "4ebb8592-7baa-451b-aa0d-b130b51c1689",
   "metadata": {},
   "outputs": [],
   "source": []
  }
 ],
 "metadata": {
  "kernelspec": {
   "display_name": "Python 3 (ipykernel)",
   "language": "python",
   "name": "python3"
  },
  "language_info": {
   "codemirror_mode": {
    "name": "ipython",
    "version": 3
   },
   "file_extension": ".py",
   "mimetype": "text/x-python",
   "name": "python",
   "nbconvert_exporter": "python",
   "pygments_lexer": "ipython3",
   "version": "3.12.4"
  }
 },
 "nbformat": 4,
 "nbformat_minor": 5
}
