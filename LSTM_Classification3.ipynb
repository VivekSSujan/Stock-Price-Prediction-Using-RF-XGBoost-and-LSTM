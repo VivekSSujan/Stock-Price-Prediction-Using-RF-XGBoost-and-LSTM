{
 "cells": [
  {
   "cell_type": "code",
   "execution_count": 1,
   "id": "10197bf2-8e8a-4fa2-bb63-751f882e1d68",
   "metadata": {},
   "outputs": [],
   "source": [
    "import yfinance as yf\n",
    "import pandas as pd\n",
    "import os"
   ]
  },
  {
   "cell_type": "code",
   "execution_count": 2,
   "id": "d175ce6f-4560-4180-8f9e-c2f75e94b362",
   "metadata": {},
   "outputs": [],
   "source": [
    "import numpy as np\n",
    "import pandas as pd\n",
    "from sklearn.preprocessing import MinMaxScaler\n",
    "from sklearn.model_selection import train_test_split\n",
    "from tensorflow.keras.models import Sequential\n",
    "from tensorflow.keras.layers import LSTM, Dense, Dropout\n",
    "from sklearn.metrics import classification_report, confusion_matrix\n"
   ]
  },
  {
   "cell_type": "code",
   "execution_count": 3,
   "id": "e5a67f93-c887-4ce1-ab81-369621edce77",
   "metadata": {},
   "outputs": [],
   "source": [
    "if os.path.exists(\"sp500.csv\"):\n",
    "    sp500 = pd.read_csv(\"sp500.csv\", index_col=0)\n",
    "else:\n",
    "    sp500 = yf.Ticker(\"^GSPC\")\n",
    "    sp500 = sp500.history(period=\"max\")\n",
    "    sp500.to_csv(\"sp500.csv\")"
   ]
  },
  {
   "cell_type": "code",
   "execution_count": 4,
   "id": "5e8464e6-435e-4649-a966-317b75215333",
   "metadata": {},
   "outputs": [],
   "source": [
    "# Ensure it's parsed as datetime first\n",
    "sp500.index = pd.to_datetime(sp500.index, utc=True)  # Forcefully makes it tz-aware\n",
    "\n",
    "# Then remove the timezone\n",
    "sp500.index = sp500.index.tz_convert(None)\n",
    "\n",
    "# Now safely filter from 1990 onwards\n",
    "sp500 = sp500.loc[\"1990-01-01\":].copy()"
   ]
  },
  {
   "cell_type": "code",
   "execution_count": 5,
   "id": "d0deaf2f-554e-4bb9-a83a-b39479540780",
   "metadata": {},
   "outputs": [],
   "source": [
    "df = sp500.copy(deep=True)"
   ]
  },
  {
   "cell_type": "code",
   "execution_count": 6,
   "id": "d5465783-016d-476b-a2fc-6239f5160aa6",
   "metadata": {},
   "outputs": [],
   "source": [
    "# Apply standard single exponential smoothing (SES) to the Close price\n",
    "alpha = 0.3  # smoothing factor (between 0 and 1)\n",
    "\n",
    "df[\"SES_Close\"] = df[\"Close\"].ewm(alpha=alpha, adjust=False).mean()"
   ]
  },
  {
   "cell_type": "code",
   "execution_count": 7,
   "id": "27ec7c17-8c17-4769-b427-cf20b9e14b49",
   "metadata": {},
   "outputs": [],
   "source": [
    "# import pandas as pd\n",
    "# import numpy as np\n",
    "import ta  # technical analysis library\n",
    "\n",
    "# # Assuming your DataFrame has 'SES_Close' and 'Volume' columns\n",
    "# df = df.copy()\n",
    "\n",
    "# # ========== TA-Based Features ==========\n",
    "\n",
    "# 1. RSI (Relative Strength Index)\n",
    "df['RSI'] = ta.momentum.RSIIndicator(close=df['SES_Close'], window=14).rsi()\n",
    "\n",
    "# 2. MACD\n",
    "macd = ta.trend.MACD(close=df['SES_Close'])\n",
    "df['MACD'] = macd.macd()\n",
    "df['MACD_signal'] = macd.macd_signal()\n",
    "df['MACD_diff'] = macd.macd_diff()\n",
    "\n",
    "# 3. Stochastic Oscillator\n",
    "stoch = ta.momentum.StochasticOscillator(high=df['High'], low=df['Low'], close=df['SES_Close'])\n",
    "df['Stoch_k'] = stoch.stoch()\n",
    "df['Stoch_d'] = stoch.stoch_signal()\n",
    "\n",
    "# # 4. Bollinger Bands\n",
    "# boll = ta.volatility.BollingerBands(close=df['SES_Close'], window=20, window_dev=2)\n",
    "# df['BB_upper'] = boll.bollinger_hband()\n",
    "# df['BB_lower'] = boll.bollinger_lband()\n",
    "# df['BB_percent'] = boll.bollinger_pband()\n",
    "\n",
    "# 5. OBV (On-Balance Volume)\n",
    "df['OBV'] = ta.volume.OnBalanceVolumeIndicator(close=df['SES_Close'], volume=df['Volume']).on_balance_volume()\n",
    "\n",
    "# ========== Lag Features ==========\n",
    "df['Lag_1'] = df['SES_Close'].shift(1)\n",
    "df['Lag_2'] = df['SES_Close'].shift(2)\n",
    "df['Lag_3'] = df['SES_Close'].shift(3)\n",
    "df['Lag_4'] = df['SES_Close'].shift(4)\n",
    "df['Lag_5'] = df['SES_Close'].shift(5)\n",
    "df['Lag_10'] = df['SES_Close'].shift(10)\n",
    "# # # ========== Shift all features to prevent leakage ==========\n",
    "# # # Get list of all features excluding Target\n",
    "# feature_cols = [col for col in df.columns if col not in ['Target']]\n",
    "\n",
    "# # # Shift all features by 1 step (to make sure they only use past data)\n",
    "# # df[feature_cols] = df[feature_cols].shift(1)\n",
    "\n",
    "# # # Drop any rows with NaNs (from rolling windows, shifting, etc.)\n",
    "# # df = df.dropna().reset_index(drop=True)\n",
    "\n",
    "\n",
    "# Example on 'SES_Close' column\n",
    "# Define window periods you want\n",
    "sma_periods = [5, 10, 20,50]\n",
    "ema_periods = [5, 10, 20]\n",
    "\n",
    "for period in sma_periods:\n",
    "    df[f'SMA_{period}'] = df['SES_Close'].rolling(window=period).mean()\n",
    "\n",
    "for period in ema_periods:\n",
    "    df[f'EMA_{period}'] = df['SES_Close'].ewm(span=period, adjust=False).mean()\n",
    "\n",
    "\n",
    "df['Net_Change_2d'] = df['Close'] - df['Close'].shift(2)\n",
    "df['Daily_Return'] = df['Close'].pct_change()\n",
    "df['Volatility_10d'] = df['Daily_Return'].rolling(window=10).std()"
   ]
  },
  {
   "cell_type": "code",
   "execution_count": 8,
   "id": "7b430542-3e21-481f-bf6e-9cc0ea5e58d7",
   "metadata": {},
   "outputs": [
    {
     "data": {
      "text/plain": [
       "Index(['Open', 'High', 'Low', 'Close', 'Volume', 'Dividends', 'Stock Splits',\n",
       "       'SES_Close', 'RSI', 'MACD', 'MACD_signal', 'MACD_diff', 'Stoch_k',\n",
       "       'Stoch_d', 'OBV', 'Lag_1', 'Lag_2', 'Lag_3', 'Lag_4', 'Lag_5', 'Lag_10',\n",
       "       'SMA_5', 'SMA_10', 'SMA_20', 'SMA_50', 'EMA_5', 'EMA_10', 'EMA_20',\n",
       "       'Net_Change_2d', 'Daily_Return', 'Volatility_10d'],\n",
       "      dtype='object')"
      ]
     },
     "execution_count": 8,
     "metadata": {},
     "output_type": "execute_result"
    }
   ],
   "source": [
    "df.columns"
   ]
  },
  {
   "cell_type": "code",
   "execution_count": null,
   "id": "04a6f57e-255d-4525-ad0a-569406782b04",
   "metadata": {},
   "outputs": [],
   "source": []
  },
  {
   "cell_type": "code",
   "execution_count": 9,
   "id": "4c07b8b4-5193-475b-a8cb-650ad015551d",
   "metadata": {},
   "outputs": [],
   "source": [
    "\n",
    "\n",
    "\n",
    "\n",
    "# # Calculate moving averages\n",
    "# df['MA10'] = df['SES_Close'].rolling(window=10).mean()\n",
    "# df['MA50'] = df['SES_Close'].rolling(window=50).mean()\n",
    "# df['EMA20'] = df['SES_Close'].ewm(span=20, adjust=False).mean()\n",
    "\n",
    "# Create binary target column\n",
    "\n",
    "num_days=10\n",
    "df['Target'] = (df['SES_Close'].shift(-num_days) > df['SES_Close']).astype(int)\n",
    "\n",
    "# Drop the last row (no label for the last day)\n",
    "df = df.dropna()"
   ]
  },
  {
   "cell_type": "code",
   "execution_count": 10,
   "id": "64a31436-05d4-4bb8-89d3-6e7db3b42306",
   "metadata": {},
   "outputs": [],
   "source": [
    "df.drop(['Dividends','Stock Splits'],axis=1, inplace=True)"
   ]
  },
  {
   "cell_type": "code",
   "execution_count": 11,
   "id": "95fdf4e2-d305-477a-9285-72e2b7d739d4",
   "metadata": {},
   "outputs": [
    {
     "data": {
      "text/html": [
       "<div>\n",
       "<style scoped>\n",
       "    .dataframe tbody tr th:only-of-type {\n",
       "        vertical-align: middle;\n",
       "    }\n",
       "\n",
       "    .dataframe tbody tr th {\n",
       "        vertical-align: top;\n",
       "    }\n",
       "\n",
       "    .dataframe thead th {\n",
       "        text-align: right;\n",
       "    }\n",
       "</style>\n",
       "<table border=\"1\" class=\"dataframe\">\n",
       "  <thead>\n",
       "    <tr style=\"text-align: right;\">\n",
       "      <th></th>\n",
       "      <th>Open</th>\n",
       "      <th>High</th>\n",
       "      <th>Low</th>\n",
       "      <th>Close</th>\n",
       "      <th>Volume</th>\n",
       "      <th>SES_Close</th>\n",
       "      <th>RSI</th>\n",
       "      <th>MACD</th>\n",
       "      <th>MACD_signal</th>\n",
       "      <th>MACD_diff</th>\n",
       "      <th>...</th>\n",
       "      <th>SMA_10</th>\n",
       "      <th>SMA_20</th>\n",
       "      <th>SMA_50</th>\n",
       "      <th>EMA_5</th>\n",
       "      <th>EMA_10</th>\n",
       "      <th>EMA_20</th>\n",
       "      <th>Net_Change_2d</th>\n",
       "      <th>Daily_Return</th>\n",
       "      <th>Volatility_10d</th>\n",
       "      <th>Target</th>\n",
       "    </tr>\n",
       "    <tr>\n",
       "      <th>Date</th>\n",
       "      <th></th>\n",
       "      <th></th>\n",
       "      <th></th>\n",
       "      <th></th>\n",
       "      <th></th>\n",
       "      <th></th>\n",
       "      <th></th>\n",
       "      <th></th>\n",
       "      <th></th>\n",
       "      <th></th>\n",
       "      <th></th>\n",
       "      <th></th>\n",
       "      <th></th>\n",
       "      <th></th>\n",
       "      <th></th>\n",
       "      <th></th>\n",
       "      <th></th>\n",
       "      <th></th>\n",
       "      <th></th>\n",
       "      <th></th>\n",
       "      <th></th>\n",
       "    </tr>\n",
       "  </thead>\n",
       "  <tbody>\n",
       "    <tr>\n",
       "      <th>1990-03-13 05:00:00</th>\n",
       "      <td>338.670013</td>\n",
       "      <td>338.670013</td>\n",
       "      <td>335.359985</td>\n",
       "      <td>336.000000</td>\n",
       "      <td>145440000</td>\n",
       "      <td>337.041381</td>\n",
       "      <td>62.673705</td>\n",
       "      <td>0.344091</td>\n",
       "      <td>-0.990848</td>\n",
       "      <td>1.334939</td>\n",
       "      <td>...</td>\n",
       "      <td>334.181017</td>\n",
       "      <td>332.194241</td>\n",
       "      <td>336.811937</td>\n",
       "      <td>336.299812</td>\n",
       "      <td>334.760170</td>\n",
       "      <td>333.676823</td>\n",
       "      <td>-1.929993</td>\n",
       "      <td>-0.007884</td>\n",
       "      <td>0.007282</td>\n",
       "      <td>1</td>\n",
       "    </tr>\n",
       "    <tr>\n",
       "      <th>1990-03-14 05:00:00</th>\n",
       "      <td>336.000000</td>\n",
       "      <td>337.630005</td>\n",
       "      <td>334.929993</td>\n",
       "      <td>336.869995</td>\n",
       "      <td>145060000</td>\n",
       "      <td>336.989965</td>\n",
       "      <td>62.398395</td>\n",
       "      <td>0.530391</td>\n",
       "      <td>-0.686600</td>\n",
       "      <td>1.216992</td>\n",
       "      <td>...</td>\n",
       "      <td>334.925912</td>\n",
       "      <td>332.474820</td>\n",
       "      <td>336.357936</td>\n",
       "      <td>336.529863</td>\n",
       "      <td>335.165587</td>\n",
       "      <td>333.992360</td>\n",
       "      <td>-1.800018</td>\n",
       "      <td>0.002589</td>\n",
       "      <td>0.007206</td>\n",
       "      <td>1</td>\n",
       "    </tr>\n",
       "    <tr>\n",
       "      <th>1990-03-15 05:00:00</th>\n",
       "      <td>336.869995</td>\n",
       "      <td>338.910004</td>\n",
       "      <td>336.869995</td>\n",
       "      <td>338.070007</td>\n",
       "      <td>144410000</td>\n",
       "      <td>337.313978</td>\n",
       "      <td>63.486910</td>\n",
       "      <td>0.696156</td>\n",
       "      <td>-0.410049</td>\n",
       "      <td>1.106205</td>\n",
       "      <td>...</td>\n",
       "      <td>335.607238</td>\n",
       "      <td>332.762125</td>\n",
       "      <td>335.915996</td>\n",
       "      <td>336.791235</td>\n",
       "      <td>335.556204</td>\n",
       "      <td>334.308705</td>\n",
       "      <td>2.070007</td>\n",
       "      <td>0.003562</td>\n",
       "      <td>0.007229</td>\n",
       "      <td>1</td>\n",
       "    </tr>\n",
       "    <tr>\n",
       "      <th>1990-03-16 05:00:00</th>\n",
       "      <td>338.070007</td>\n",
       "      <td>341.910004</td>\n",
       "      <td>338.070007</td>\n",
       "      <td>341.910004</td>\n",
       "      <td>222520000</td>\n",
       "      <td>338.692786</td>\n",
       "      <td>67.763538</td>\n",
       "      <td>0.928085</td>\n",
       "      <td>-0.142422</td>\n",
       "      <td>1.070508</td>\n",
       "      <td>...</td>\n",
       "      <td>336.275267</td>\n",
       "      <td>333.068538</td>\n",
       "      <td>335.524077</td>\n",
       "      <td>337.425085</td>\n",
       "      <td>336.126491</td>\n",
       "      <td>334.726236</td>\n",
       "      <td>5.040009</td>\n",
       "      <td>0.011359</td>\n",
       "      <td>0.007587</td>\n",
       "      <td>1</td>\n",
       "    </tr>\n",
       "    <tr>\n",
       "      <th>1990-03-19 05:00:00</th>\n",
       "      <td>341.910004</td>\n",
       "      <td>343.760010</td>\n",
       "      <td>339.119995</td>\n",
       "      <td>343.529999</td>\n",
       "      <td>142300000</td>\n",
       "      <td>340.143950</td>\n",
       "      <td>71.541538</td>\n",
       "      <td>1.214983</td>\n",
       "      <td>0.129059</td>\n",
       "      <td>1.085924</td>\n",
       "      <td>...</td>\n",
       "      <td>337.036587</td>\n",
       "      <td>333.445177</td>\n",
       "      <td>335.197714</td>\n",
       "      <td>338.331373</td>\n",
       "      <td>336.856938</td>\n",
       "      <td>335.242209</td>\n",
       "      <td>5.459991</td>\n",
       "      <td>0.004738</td>\n",
       "      <td>0.007173</td>\n",
       "      <td>0</td>\n",
       "    </tr>\n",
       "    <tr>\n",
       "      <th>...</th>\n",
       "      <td>...</td>\n",
       "      <td>...</td>\n",
       "      <td>...</td>\n",
       "      <td>...</td>\n",
       "      <td>...</td>\n",
       "      <td>...</td>\n",
       "      <td>...</td>\n",
       "      <td>...</td>\n",
       "      <td>...</td>\n",
       "      <td>...</td>\n",
       "      <td>...</td>\n",
       "      <td>...</td>\n",
       "      <td>...</td>\n",
       "      <td>...</td>\n",
       "      <td>...</td>\n",
       "      <td>...</td>\n",
       "      <td>...</td>\n",
       "      <td>...</td>\n",
       "      <td>...</td>\n",
       "      <td>...</td>\n",
       "      <td>...</td>\n",
       "    </tr>\n",
       "    <tr>\n",
       "      <th>2025-07-01 04:00:00</th>\n",
       "      <td>6187.250000</td>\n",
       "      <td>6210.779785</td>\n",
       "      <td>6177.970215</td>\n",
       "      <td>6198.009766</td>\n",
       "      <td>6275310000</td>\n",
       "      <td>6153.578444</td>\n",
       "      <td>86.279675</td>\n",
       "      <td>78.867944</td>\n",
       "      <td>75.201746</td>\n",
       "      <td>3.666197</td>\n",
       "      <td>...</td>\n",
       "      <td>6052.804447</td>\n",
       "      <td>6014.371225</td>\n",
       "      <td>5807.269334</td>\n",
       "      <td>6107.920644</td>\n",
       "      <td>6069.689027</td>\n",
       "      <td>6011.863623</td>\n",
       "      <td>24.939941</td>\n",
       "      <td>-0.001119</td>\n",
       "      <td>0.006112</td>\n",
       "      <td>0</td>\n",
       "    </tr>\n",
       "    <tr>\n",
       "      <th>2025-07-02 04:00:00</th>\n",
       "      <td>6193.879883</td>\n",
       "      <td>6227.600098</td>\n",
       "      <td>6188.290039</td>\n",
       "      <td>6227.419922</td>\n",
       "      <td>5645710000</td>\n",
       "      <td>6175.730888</td>\n",
       "      <td>87.403539</td>\n",
       "      <td>82.451555</td>\n",
       "      <td>76.651708</td>\n",
       "      <td>5.799847</td>\n",
       "      <td>...</td>\n",
       "      <td>6070.043811</td>\n",
       "      <td>6026.832106</td>\n",
       "      <td>5825.404587</td>\n",
       "      <td>6130.524058</td>\n",
       "      <td>6088.969365</td>\n",
       "      <td>6027.470029</td>\n",
       "      <td>22.469727</td>\n",
       "      <td>0.004745</td>\n",
       "      <td>0.004722</td>\n",
       "      <td>0</td>\n",
       "    </tr>\n",
       "    <tr>\n",
       "      <th>2025-07-03 04:00:00</th>\n",
       "      <td>6246.459961</td>\n",
       "      <td>6284.649902</td>\n",
       "      <td>6246.459961</td>\n",
       "      <td>6279.350098</td>\n",
       "      <td>3378110000</td>\n",
       "      <td>6206.816651</td>\n",
       "      <td>88.791057</td>\n",
       "      <td>86.799385</td>\n",
       "      <td>78.681243</td>\n",
       "      <td>8.118141</td>\n",
       "      <td>...</td>\n",
       "      <td>6091.065765</td>\n",
       "      <td>6040.182823</td>\n",
       "      <td>5844.048806</td>\n",
       "      <td>6155.954922</td>\n",
       "      <td>6110.396144</td>\n",
       "      <td>6044.550660</td>\n",
       "      <td>81.340332</td>\n",
       "      <td>0.008339</td>\n",
       "      <td>0.004631</td>\n",
       "      <td>0</td>\n",
       "    </tr>\n",
       "    <tr>\n",
       "      <th>2025-07-07 04:00:00</th>\n",
       "      <td>6259.040039</td>\n",
       "      <td>6262.069824</td>\n",
       "      <td>6201.000000</td>\n",
       "      <td>6229.979980</td>\n",
       "      <td>5236740000</td>\n",
       "      <td>6213.765650</td>\n",
       "      <td>89.080614</td>\n",
       "      <td>89.770973</td>\n",
       "      <td>80.899189</td>\n",
       "      <td>8.871784</td>\n",
       "      <td>...</td>\n",
       "      <td>6113.645337</td>\n",
       "      <td>6053.888528</td>\n",
       "      <td>5862.224479</td>\n",
       "      <td>6175.225165</td>\n",
       "      <td>6129.190600</td>\n",
       "      <td>6060.666373</td>\n",
       "      <td>2.560059</td>\n",
       "      <td>-0.007862</td>\n",
       "      <td>0.005797</td>\n",
       "      <td>0</td>\n",
       "    </tr>\n",
       "    <tr>\n",
       "      <th>2025-07-08 04:00:00</th>\n",
       "      <td>6234.029785</td>\n",
       "      <td>6242.700195</td>\n",
       "      <td>6217.750000</td>\n",
       "      <td>6225.520020</td>\n",
       "      <td>5739030000</td>\n",
       "      <td>6217.291961</td>\n",
       "      <td>89.232620</td>\n",
       "      <td>91.357411</td>\n",
       "      <td>82.990834</td>\n",
       "      <td>8.366578</td>\n",
       "      <td>...</td>\n",
       "      <td>6135.461541</td>\n",
       "      <td>6066.859924</td>\n",
       "      <td>5879.391951</td>\n",
       "      <td>6189.247430</td>\n",
       "      <td>6145.209029</td>\n",
       "      <td>6075.583096</td>\n",
       "      <td>-53.830078</td>\n",
       "      <td>-0.000716</td>\n",
       "      <td>0.005669</td>\n",
       "      <td>0</td>\n",
       "    </tr>\n",
       "  </tbody>\n",
       "</table>\n",
       "<p>8895 rows × 30 columns</p>\n",
       "</div>"
      ],
      "text/plain": [
       "                            Open         High          Low        Close  \\\n",
       "Date                                                                      \n",
       "1990-03-13 05:00:00   338.670013   338.670013   335.359985   336.000000   \n",
       "1990-03-14 05:00:00   336.000000   337.630005   334.929993   336.869995   \n",
       "1990-03-15 05:00:00   336.869995   338.910004   336.869995   338.070007   \n",
       "1990-03-16 05:00:00   338.070007   341.910004   338.070007   341.910004   \n",
       "1990-03-19 05:00:00   341.910004   343.760010   339.119995   343.529999   \n",
       "...                          ...          ...          ...          ...   \n",
       "2025-07-01 04:00:00  6187.250000  6210.779785  6177.970215  6198.009766   \n",
       "2025-07-02 04:00:00  6193.879883  6227.600098  6188.290039  6227.419922   \n",
       "2025-07-03 04:00:00  6246.459961  6284.649902  6246.459961  6279.350098   \n",
       "2025-07-07 04:00:00  6259.040039  6262.069824  6201.000000  6229.979980   \n",
       "2025-07-08 04:00:00  6234.029785  6242.700195  6217.750000  6225.520020   \n",
       "\n",
       "                         Volume    SES_Close        RSI       MACD  \\\n",
       "Date                                                                 \n",
       "1990-03-13 05:00:00   145440000   337.041381  62.673705   0.344091   \n",
       "1990-03-14 05:00:00   145060000   336.989965  62.398395   0.530391   \n",
       "1990-03-15 05:00:00   144410000   337.313978  63.486910   0.696156   \n",
       "1990-03-16 05:00:00   222520000   338.692786  67.763538   0.928085   \n",
       "1990-03-19 05:00:00   142300000   340.143950  71.541538   1.214983   \n",
       "...                         ...          ...        ...        ...   \n",
       "2025-07-01 04:00:00  6275310000  6153.578444  86.279675  78.867944   \n",
       "2025-07-02 04:00:00  5645710000  6175.730888  87.403539  82.451555   \n",
       "2025-07-03 04:00:00  3378110000  6206.816651  88.791057  86.799385   \n",
       "2025-07-07 04:00:00  5236740000  6213.765650  89.080614  89.770973   \n",
       "2025-07-08 04:00:00  5739030000  6217.291961  89.232620  91.357411   \n",
       "\n",
       "                     MACD_signal  MACD_diff  ...       SMA_10       SMA_20  \\\n",
       "Date                                         ...                             \n",
       "1990-03-13 05:00:00    -0.990848   1.334939  ...   334.181017   332.194241   \n",
       "1990-03-14 05:00:00    -0.686600   1.216992  ...   334.925912   332.474820   \n",
       "1990-03-15 05:00:00    -0.410049   1.106205  ...   335.607238   332.762125   \n",
       "1990-03-16 05:00:00    -0.142422   1.070508  ...   336.275267   333.068538   \n",
       "1990-03-19 05:00:00     0.129059   1.085924  ...   337.036587   333.445177   \n",
       "...                          ...        ...  ...          ...          ...   \n",
       "2025-07-01 04:00:00    75.201746   3.666197  ...  6052.804447  6014.371225   \n",
       "2025-07-02 04:00:00    76.651708   5.799847  ...  6070.043811  6026.832106   \n",
       "2025-07-03 04:00:00    78.681243   8.118141  ...  6091.065765  6040.182823   \n",
       "2025-07-07 04:00:00    80.899189   8.871784  ...  6113.645337  6053.888528   \n",
       "2025-07-08 04:00:00    82.990834   8.366578  ...  6135.461541  6066.859924   \n",
       "\n",
       "                          SMA_50        EMA_5       EMA_10       EMA_20  \\\n",
       "Date                                                                      \n",
       "1990-03-13 05:00:00   336.811937   336.299812   334.760170   333.676823   \n",
       "1990-03-14 05:00:00   336.357936   336.529863   335.165587   333.992360   \n",
       "1990-03-15 05:00:00   335.915996   336.791235   335.556204   334.308705   \n",
       "1990-03-16 05:00:00   335.524077   337.425085   336.126491   334.726236   \n",
       "1990-03-19 05:00:00   335.197714   338.331373   336.856938   335.242209   \n",
       "...                          ...          ...          ...          ...   \n",
       "2025-07-01 04:00:00  5807.269334  6107.920644  6069.689027  6011.863623   \n",
       "2025-07-02 04:00:00  5825.404587  6130.524058  6088.969365  6027.470029   \n",
       "2025-07-03 04:00:00  5844.048806  6155.954922  6110.396144  6044.550660   \n",
       "2025-07-07 04:00:00  5862.224479  6175.225165  6129.190600  6060.666373   \n",
       "2025-07-08 04:00:00  5879.391951  6189.247430  6145.209029  6075.583096   \n",
       "\n",
       "                     Net_Change_2d  Daily_Return  Volatility_10d  Target  \n",
       "Date                                                                      \n",
       "1990-03-13 05:00:00      -1.929993     -0.007884        0.007282       1  \n",
       "1990-03-14 05:00:00      -1.800018      0.002589        0.007206       1  \n",
       "1990-03-15 05:00:00       2.070007      0.003562        0.007229       1  \n",
       "1990-03-16 05:00:00       5.040009      0.011359        0.007587       1  \n",
       "1990-03-19 05:00:00       5.459991      0.004738        0.007173       0  \n",
       "...                            ...           ...             ...     ...  \n",
       "2025-07-01 04:00:00      24.939941     -0.001119        0.006112       0  \n",
       "2025-07-02 04:00:00      22.469727      0.004745        0.004722       0  \n",
       "2025-07-03 04:00:00      81.340332      0.008339        0.004631       0  \n",
       "2025-07-07 04:00:00       2.560059     -0.007862        0.005797       0  \n",
       "2025-07-08 04:00:00     -53.830078     -0.000716        0.005669       0  \n",
       "\n",
       "[8895 rows x 30 columns]"
      ]
     },
     "execution_count": 11,
     "metadata": {},
     "output_type": "execute_result"
    }
   ],
   "source": [
    "df"
   ]
  },
  {
   "cell_type": "code",
   "execution_count": 12,
   "id": "ac1940d9-de9f-49db-a501-17257c4cc8c3",
   "metadata": {},
   "outputs": [],
   "source": [
    "horizons = [2,5,60,250,1000]\n",
    "new_predictors = []\n",
    "\n",
    "for horizon in horizons:\n",
    "    rolling_averages = df.rolling(horizon).mean()\n",
    "    \n",
    "    ratio_column = f\"Close_Ratio_{horizon}\"\n",
    "    df[ratio_column] = df[\"SES_Close\"] / rolling_averages[\"SES_Close\"] #ratio of close values. Today's close value with rolling average \n",
    "    \n",
    "    trend_column = f\"Trend_{horizon}\"\n",
    "    df[trend_column] = df.shift(1).rolling(horizon).sum()[\"Target\"] #how many days in the horizon, price went up.\n",
    "    \n",
    "    new_predictors+= [ratio_column, trend_column]"
   ]
  },
  {
   "cell_type": "code",
   "execution_count": 13,
   "id": "ece982cc-6c8c-4e6b-96fe-612311ec5d5b",
   "metadata": {},
   "outputs": [
    {
     "data": {
      "text/plain": [
       "Index(['Open', 'High', 'Low', 'Close', 'Volume', 'SES_Close', 'RSI', 'MACD',\n",
       "       'MACD_signal', 'MACD_diff', 'Stoch_k', 'Stoch_d', 'OBV', 'Lag_1',\n",
       "       'Lag_2', 'Lag_3', 'Lag_4', 'Lag_5', 'Lag_10', 'SMA_5', 'SMA_10',\n",
       "       'SMA_20', 'SMA_50', 'EMA_5', 'EMA_10', 'EMA_20', 'Net_Change_2d',\n",
       "       'Daily_Return', 'Volatility_10d', 'Target', 'Close_Ratio_2', 'Trend_2',\n",
       "       'Close_Ratio_5', 'Trend_5', 'Close_Ratio_60', 'Trend_60',\n",
       "       'Close_Ratio_250', 'Trend_250', 'Close_Ratio_1000', 'Trend_1000'],\n",
       "      dtype='object')"
      ]
     },
     "execution_count": 13,
     "metadata": {},
     "output_type": "execute_result"
    }
   ],
   "source": [
    "df.columns"
   ]
  },
  {
   "cell_type": "code",
   "execution_count": null,
   "id": "e8bc3964-1c78-48cb-809d-48ffd323d108",
   "metadata": {},
   "outputs": [],
   "source": []
  },
  {
   "cell_type": "code",
   "execution_count": null,
   "id": "3fbeecb1-46c6-4d92-8157-cb3f6bc38bea",
   "metadata": {},
   "outputs": [],
   "source": []
  },
  {
   "cell_type": "code",
   "execution_count": 14,
   "id": "ed897c8d-a339-47ac-b31c-7e0cb8f93a53",
   "metadata": {},
   "outputs": [],
   "source": [
    "new_features = [ 'SES_Close','Close_Ratio_2','Trend_2', 'Close_Ratio_5', 'Trend_5',\n",
    "       'Close_Ratio_60', 'Trend_60', 'Close_Ratio_250', 'Trend_250','MACD','RSI','Stoch_d','OBV','Lag_1',\n",
    "               'Lag_2','Lag_3','Lag_4','Lag_5','Lag_10','SMA_5', 'SMA_10', 'SMA_20', 'SMA_50', 'EMA_5', 'EMA_10', 'EMA_20', 'Net_Change_2d']"
   ]
  },
  {
   "cell_type": "code",
   "execution_count": 15,
   "id": "d9686653-2d9c-4fe0-bf85-6373c47276ae",
   "metadata": {},
   "outputs": [],
   "source": [
    "for col in new_features:\n",
    "    df[col] = df[col].shift(1)"
   ]
  },
  {
   "cell_type": "code",
   "execution_count": 16,
   "id": "0a037625-21cb-4865-8f91-f66186e9d01c",
   "metadata": {},
   "outputs": [],
   "source": [
    "df.dropna(inplace=True)"
   ]
  },
  {
   "cell_type": "code",
   "execution_count": 17,
   "id": "1f40da82-defd-44b0-8645-8f3440e3b7b2",
   "metadata": {},
   "outputs": [],
   "source": [
    "scaler = MinMaxScaler()\n",
    "scaled_features = scaler.fit_transform(df[new_features])"
   ]
  },
  {
   "cell_type": "code",
   "execution_count": null,
   "id": "735f0910-7322-452d-95b7-6e0ebf929b89",
   "metadata": {},
   "outputs": [],
   "source": []
  },
  {
   "cell_type": "code",
   "execution_count": 18,
   "id": "07472ef5-7e07-4a90-90c4-41d79e754f5f",
   "metadata": {},
   "outputs": [],
   "source": [
    "# Create sequences\n",
    "def create_sequences(data, labels, look_back=100):\n",
    "    X, y = [], []\n",
    "    for i in range(len(data) - look_back):\n",
    "        X.append(data[i:i+look_back])\n",
    "        y.append(labels[i+look_back])\n",
    "    return np.array(X), np.array(y)\n",
    "\n",
    "look_back = 30\n",
    "X, y = create_sequences(scaled_features, df['Target'].values, look_back)\n",
    "\n",
    "\n",
    "# “Will the price go up 5 (n days) days from today, based on the last 30 days of features?”\n"
   ]
  },
  {
   "cell_type": "code",
   "execution_count": 19,
   "id": "7b8bfdd5-378c-4ec9-b201-9d3c3126db4c",
   "metadata": {
    "scrolled": true
   },
   "outputs": [
    {
     "data": {
      "text/plain": [
       "7865"
      ]
     },
     "execution_count": 19,
     "metadata": {},
     "output_type": "execute_result"
    }
   ],
   "source": [
    "len(X)"
   ]
  },
  {
   "cell_type": "code",
   "execution_count": 20,
   "id": "710de74f-a884-4712-be2b-ddcad30ec8d0",
   "metadata": {},
   "outputs": [],
   "source": [
    "# Train/test split\n",
    "total_samples = len(X)\n",
    "train_size = int(0.7 * total_samples)\n",
    "val_size = int(0.15 * total_samples)\n",
    "test_size = total_samples - train_size - val_size\n",
    "\n",
    "X_train = X[:train_size]\n",
    "y_train = y[:train_size]\n",
    "\n",
    "X_val = X[train_size:train_size + val_size]\n",
    "y_val = y[train_size:train_size + val_size]\n",
    "\n",
    "X_test = X[train_size + val_size:]\n",
    "y_test = y[train_size + val_size:]"
   ]
  },
  {
   "cell_type": "code",
   "execution_count": 21,
   "id": "8d4f0462-ca09-4491-b2bf-c9c6f0c309fd",
   "metadata": {},
   "outputs": [
    {
     "data": {
      "text/plain": [
       "(5505, 30, 27)"
      ]
     },
     "execution_count": 21,
     "metadata": {},
     "output_type": "execute_result"
    }
   ],
   "source": [
    "X_train.shape"
   ]
  },
  {
   "cell_type": "code",
   "execution_count": 22,
   "id": "0ab2a81e-4378-4aba-8096-c60d2a2c3231",
   "metadata": {},
   "outputs": [
    {
     "data": {
      "text/plain": [
       "(5505,)"
      ]
     },
     "execution_count": 22,
     "metadata": {},
     "output_type": "execute_result"
    }
   ],
   "source": [
    "y_train.shape"
   ]
  },
  {
   "cell_type": "code",
   "execution_count": 23,
   "id": "0475d2c3-4237-4f45-a3a9-562d11f77b7d",
   "metadata": {},
   "outputs": [
    {
     "data": {
      "text/plain": [
       "(1179, 30, 27)"
      ]
     },
     "execution_count": 23,
     "metadata": {},
     "output_type": "execute_result"
    }
   ],
   "source": [
    "X_val.shape"
   ]
  },
  {
   "cell_type": "code",
   "execution_count": 24,
   "id": "adc7d96c-f1d4-4aa2-87b3-42745fc1f619",
   "metadata": {},
   "outputs": [
    {
     "data": {
      "text/plain": [
       "(1179,)"
      ]
     },
     "execution_count": 24,
     "metadata": {},
     "output_type": "execute_result"
    }
   ],
   "source": [
    "y_val.shape"
   ]
  },
  {
   "cell_type": "code",
   "execution_count": 25,
   "id": "fe1db795-3b5c-4d97-8d41-bf78e0a2d578",
   "metadata": {},
   "outputs": [
    {
     "name": "stderr",
     "output_type": "stream",
     "text": [
      "/opt/anaconda3/lib/python3.12/site-packages/keras/src/layers/rnn/rnn.py:199: UserWarning: Do not pass an `input_shape`/`input_dim` argument to a layer. When using Sequential models, prefer using an `Input(shape)` object as the first layer in the model instead.\n",
      "  super().__init__(**kwargs)\n"
     ]
    }
   ],
   "source": [
    "\n",
    "\n",
    "from tensorflow.keras.regularizers import l2\n",
    "from tensorflow.keras.optimizers import Adam\n",
    "from tensorflow.keras.callbacks import EarlyStopping\n",
    "\n",
    "\n",
    "model = Sequential([\n",
    "    LSTM(32, input_shape=(X.shape[1], X.shape[2]), kernel_regularizer=l2(0.001)),\n",
    "    Dropout(0.3),\n",
    "    Dense(1, activation='sigmoid', kernel_regularizer=l2(0.001))\n",
    "])\n",
    "\n",
    "optimizer = Adam(learning_rate=0.001)\n",
    "\n",
    "model.compile(\n",
    "    loss='binary_crossentropy',\n",
    "    optimizer=optimizer,\n",
    "    metrics=['accuracy']\n",
    ")\n",
    "\n",
    "early_stop = EarlyStopping(\n",
    "    monitor='val_loss',\n",
    "    patience=5,\n",
    "    restore_best_weights=True\n",
    ")"
   ]
  },
  {
   "cell_type": "code",
   "execution_count": 26,
   "id": "1e15a9f8-9178-4c06-9cb0-fcc4952e314e",
   "metadata": {},
   "outputs": [
    {
     "name": "stdout",
     "output_type": "stream",
     "text": [
      "Epoch 1/100\n",
      "\u001b[1m87/87\u001b[0m \u001b[32m━━━━━━━━━━━━━━━━━━━━\u001b[0m\u001b[37m\u001b[0m \u001b[1m1s\u001b[0m 5ms/step - accuracy: 0.6518 - loss: 0.6722 - val_accuracy: 0.7455 - val_loss: 0.6560\n",
      "Epoch 2/100\n",
      "\u001b[1m87/87\u001b[0m \u001b[32m━━━━━━━━━━━━━━━━━━━━\u001b[0m\u001b[37m\u001b[0m \u001b[1m0s\u001b[0m 4ms/step - accuracy: 0.7369 - loss: 0.6012 - val_accuracy: 0.8109 - val_loss: 0.4942\n",
      "Epoch 3/100\n",
      "\u001b[1m87/87\u001b[0m \u001b[32m━━━━━━━━━━━━━━━━━━━━\u001b[0m\u001b[37m\u001b[0m \u001b[1m0s\u001b[0m 4ms/step - accuracy: 0.7640 - loss: 0.5570 - val_accuracy: 0.8244 - val_loss: 0.5227\n",
      "Epoch 4/100\n",
      "\u001b[1m87/87\u001b[0m \u001b[32m━━━━━━━━━━━━━━━━━━━━\u001b[0m\u001b[37m\u001b[0m \u001b[1m0s\u001b[0m 4ms/step - accuracy: 0.7902 - loss: 0.5224 - val_accuracy: 0.8312 - val_loss: 0.5190\n",
      "Epoch 5/100\n",
      "\u001b[1m87/87\u001b[0m \u001b[32m━━━━━━━━━━━━━━━━━━━━\u001b[0m\u001b[37m\u001b[0m \u001b[1m0s\u001b[0m 4ms/step - accuracy: 0.7950 - loss: 0.5124 - val_accuracy: 0.8321 - val_loss: 0.4982\n",
      "Epoch 6/100\n",
      "\u001b[1m87/87\u001b[0m \u001b[32m━━━━━━━━━━━━━━━━━━━━\u001b[0m\u001b[37m\u001b[0m \u001b[1m0s\u001b[0m 4ms/step - accuracy: 0.7909 - loss: 0.5087 - val_accuracy: 0.8355 - val_loss: 0.4669\n",
      "Epoch 7/100\n",
      "\u001b[1m87/87\u001b[0m \u001b[32m━━━━━━━━━━━━━━━━━━━━\u001b[0m\u001b[37m\u001b[0m \u001b[1m0s\u001b[0m 4ms/step - accuracy: 0.7938 - loss: 0.5061 - val_accuracy: 0.8372 - val_loss: 0.4714\n",
      "Epoch 8/100\n",
      "\u001b[1m87/87\u001b[0m \u001b[32m━━━━━━━━━━━━━━━━━━━━\u001b[0m\u001b[37m\u001b[0m \u001b[1m0s\u001b[0m 4ms/step - accuracy: 0.7960 - loss: 0.5056 - val_accuracy: 0.8397 - val_loss: 0.4532\n",
      "Epoch 9/100\n",
      "\u001b[1m87/87\u001b[0m \u001b[32m━━━━━━━━━━━━━━━━━━━━\u001b[0m\u001b[37m\u001b[0m \u001b[1m0s\u001b[0m 4ms/step - accuracy: 0.7991 - loss: 0.4996 - val_accuracy: 0.8490 - val_loss: 0.4732\n",
      "Epoch 10/100\n",
      "\u001b[1m87/87\u001b[0m \u001b[32m━━━━━━━━━━━━━━━━━━━━\u001b[0m\u001b[37m\u001b[0m \u001b[1m0s\u001b[0m 4ms/step - accuracy: 0.7998 - loss: 0.4928 - val_accuracy: 0.8465 - val_loss: 0.5350\n",
      "Epoch 11/100\n",
      "\u001b[1m87/87\u001b[0m \u001b[32m━━━━━━━━━━━━━━━━━━━━\u001b[0m\u001b[37m\u001b[0m \u001b[1m0s\u001b[0m 5ms/step - accuracy: 0.7919 - loss: 0.5215 - val_accuracy: 0.8499 - val_loss: 0.4669\n",
      "Epoch 12/100\n",
      "\u001b[1m87/87\u001b[0m \u001b[32m━━━━━━━━━━━━━━━━━━━━\u001b[0m\u001b[37m\u001b[0m \u001b[1m0s\u001b[0m 5ms/step - accuracy: 0.8041 - loss: 0.4980 - val_accuracy: 0.8473 - val_loss: 0.4935\n",
      "Epoch 13/100\n",
      "\u001b[1m87/87\u001b[0m \u001b[32m━━━━━━━━━━━━━━━━━━━━\u001b[0m\u001b[37m\u001b[0m \u001b[1m0s\u001b[0m 4ms/step - accuracy: 0.8057 - loss: 0.4927 - val_accuracy: 0.8609 - val_loss: 0.4533\n"
     ]
    }
   ],
   "source": [
    "history = model.fit(\n",
    "    X_train, y_train,\n",
    "    epochs=100,\n",
    "    batch_size=64,\n",
    "    validation_data=(X_val, y_val),\n",
    "    callbacks=[early_stop],\n",
    "    verbose=1\n",
    ")"
   ]
  },
  {
   "cell_type": "code",
   "execution_count": 27,
   "id": "d1434f64-1af3-4d95-8132-76c68c2e6130",
   "metadata": {},
   "outputs": [
    {
     "name": "stdout",
     "output_type": "stream",
     "text": [
      "\u001b[1m37/37\u001b[0m \u001b[32m━━━━━━━━━━━━━━━━━━━━\u001b[0m\u001b[37m\u001b[0m \u001b[1m0s\u001b[0m 2ms/step\n",
      "Confusion Matrix:\n",
      "[[340  56]\n",
      " [217 568]]\n",
      "\n",
      "Classification Report:\n",
      "              precision    recall  f1-score   support\n",
      "\n",
      "           0       0.61      0.86      0.71       396\n",
      "           1       0.91      0.72      0.81       785\n",
      "\n",
      "    accuracy                           0.77      1181\n",
      "   macro avg       0.76      0.79      0.76      1181\n",
      "weighted avg       0.81      0.77      0.78      1181\n",
      "\n"
     ]
    }
   ],
   "source": [
    "# Predict and evaluate\n",
    "# Get predicted probabilities (sigmoid output)\n",
    "y_probs = model.predict(X_test).flatten()  # returns probability of class 1\n",
    "\n",
    "# Apply threshold manually (e.g., 0.6)\n",
    "y_pred = (y_probs > 0.5).astype(int)\n",
    "\n",
    "# Evaluation\n",
    "print(\"Confusion Matrix:\")\n",
    "print(confusion_matrix(y_test, y_pred))\n",
    "\n",
    "print(\"\\nClassification Report:\")\n",
    "print(classification_report(y_test, y_pred))\n",
    "\n",
    "\n"
   ]
  },
  {
   "cell_type": "code",
   "execution_count": 28,
   "id": "ff77de23-f218-4e72-a7ec-c4ca8baf600c",
   "metadata": {},
   "outputs": [
    {
     "name": "stdout",
     "output_type": "stream",
     "text": [
      "Accuracy:    0.7688\n",
      "Precision:   0.9103\n",
      "Recall:      0.7236\n",
      "Specificity: 0.8586\n",
      "F1 Score:    0.8062\n"
     ]
    }
   ],
   "source": [
    "from sklearn.metrics import accuracy_score, precision_score, recall_score, f1_score, confusion_matrix\n",
    "\n",
    "\n",
    "# Calculate confusion matrix\n",
    "tn, fp, fn, tp = confusion_matrix(y_test, y_pred).ravel()\n",
    "\n",
    "# Compute metrics\n",
    "accuracy = accuracy_score(y_test, y_pred)\n",
    "precision = precision_score(y_test, y_pred, zero_division=0)\n",
    "recall = recall_score(y_test, y_pred)\n",
    "specificity = tn / (tn + fp)\n",
    "f1 = f1_score(y_test, y_pred)\n",
    "\n",
    "# Print metrics\n",
    "print(f\"Accuracy:    {accuracy:.4f}\")\n",
    "print(f\"Precision:   {precision:.4f}\")\n",
    "print(f\"Recall:      {recall:.4f}\")\n",
    "print(f\"Specificity: {specificity:.4f}\")\n",
    "print(f\"F1 Score:    {f1:.4f}\")\n",
    "\n"
   ]
  },
  {
   "cell_type": "code",
   "execution_count": 37,
   "id": "27526253-9728-4600-b29c-d217ef511373",
   "metadata": {},
   "outputs": [
    {
     "data": {
      "image/png": "[encoded data removed]",
      "text/plain": [
       "<Figure size 600x500 with 1 Axes>"
      ]
     },
     "metadata": {},
     "output_type": "display_data"
    }
   ],
   "source": [
    "from sklearn.metrics import roc_curve, auc\n",
    "import matplotlib.pyplot as plt\n",
    "\n",
    "# Compute FPR, TPR, and thresholds\n",
    "fpr, tpr, thresholds = roc_curve(y_test, y_probs)\n",
    "\n",
    "# Calculate AUC\n",
    "roc_auc = auc(fpr, tpr)\n",
    "\n",
    "# Plot the ROC Curve\n",
    "plt.figure(figsize=(6, 5))\n",
    "plt.plot(fpr, tpr, label=f'ROC Curve (AUC = {roc_auc:.2f})')\n",
    "plt.plot([0, 1], [0, 1], linestyle='--', color='gray')  # Diagonal line (random guess)\n",
    "plt.xlabel('False Positive Rate')\n",
    "plt.ylabel('True Positive Rate')\n",
    "plt.title(f'LSTM ROC Curve - {num_days} day prediction')\n",
    "plt.legend(loc='lower right')\n",
    "plt.grid(True)\n",
    "plt.tight_layout()\n",
    "plt.show()"
   ]
  },
  {
   "cell_type": "code",
   "execution_count": null,
   "id": "4ae49787-5958-4207-a46a-a063eeac2b12",
   "metadata": {},
   "outputs": [],
   "source": []
  },
  {
   "cell_type": "code",
   "execution_count": null,
   "id": "a4a995d3-97aa-4512-8ed6-ccd7cce8f761",
   "metadata": {},
   "outputs": [],
   "source": []
  },
  {
   "cell_type": "code",
   "execution_count": null,
   "id": "377e4c52-8b8e-4180-9a73-fba4a60f6074",
   "metadata": {},
   "outputs": [],
   "source": []
  },
  {
   "cell_type": "code",
   "execution_count": null,
   "id": "a54c1afd-26cf-4a4f-ba9b-af6b93d857b4",
   "metadata": {},
   "outputs": [],
   "source": []
  },
  {
   "cell_type": "code",
   "execution_count": null,
   "id": "807c2198-c688-48c0-a747-4d82fe3e3ac2",
   "metadata": {},
   "outputs": [],
   "source": []
  },
  {
   "cell_type": "code",
   "execution_count": null,
   "id": "58917687-8214-48f1-b93f-864ed833a2bd",
   "metadata": {},
   "outputs": [],
   "source": []
  },
  {
   "cell_type": "code",
   "execution_count": null,
   "id": "bf751724-b3ce-4233-8d92-4af02feb547c",
   "metadata": {},
   "outputs": [],
   "source": []
  },
  {
   "cell_type": "code",
   "execution_count": null,
   "id": "625a8f98-942d-45da-a017-2568c3af3219",
   "metadata": {},
   "outputs": [],
   "source": []
  },
  {
   "cell_type": "code",
   "execution_count": null,
   "id": "4ac55c61-133c-4c6c-947c-9a7f2210e366",
   "metadata": {},
   "outputs": [],
   "source": []
  },
  {
   "cell_type": "code",
   "execution_count": null,
   "id": "b0999a83-b91d-41f5-933f-9579f07d0427",
   "metadata": {},
   "outputs": [],
   "source": []
  },
  {
   "cell_type": "code",
   "execution_count": null,
   "id": "fb3c6d6e-3e4e-42e8-98db-ac437a6bb2f6",
   "metadata": {},
   "outputs": [],
   "source": []
  },
  {
   "cell_type": "code",
   "execution_count": null,
   "id": "d28041c8-8cc3-4aba-80c9-7a53a1129540",
   "metadata": {},
   "outputs": [],
   "source": []
  },
  {
   "cell_type": "code",
   "execution_count": null,
   "id": "8dcc7abe-a11f-4e99-a987-28b72b986850",
   "metadata": {},
   "outputs": [],
   "source": [
    "best_params = study.best_params\n",
    "\n",
    "final_model = Sequential([\n",
    "    LSTM(best_params['units'], input_shape=(X_train.shape[1], X_train.shape[2]), kernel_regularizer=l2(best_params['l2'])),\n",
    "    Dropout(best_params['dropout']),\n",
    "    Dense(1, activation='sigmoid', kernel_regularizer=l2(best_params['l2']))\n",
    "])\n",
    "\n",
    "optimizer = Adam(learning_rate=best_params['lr'])\n",
    "\n",
    "final_model.compile(\n",
    "    loss='binary_crossentropy',\n",
    "    optimizer=optimizer,\n",
    "    metrics=['accuracy']\n",
    ")\n",
    "\n",
    "final_model.fit(\n",
    "    X_train, y_train,\n",
    "    epochs=100,\n",
    "    batch_size=64,\n",
    "    validation_data=(X_val, y_val),\n",
    "    callbacks=[early_stop],\n",
    "    verbose=1\n",
    ")"
   ]
  },
  {
   "cell_type": "code",
   "execution_count": null,
   "id": "7be2b5bd-3071-4e3e-a87f-ea1dac9a921f",
   "metadata": {},
   "outputs": [],
   "source": [
    "best_params"
   ]
  },
  {
   "cell_type": "code",
   "execution_count": null,
   "id": "4d906534-ea28-4ea4-bffe-e0a9e78c272e",
   "metadata": {},
   "outputs": [],
   "source": []
  },
  {
   "cell_type": "code",
   "execution_count": null,
   "id": "b03ac186-d225-49e1-9c09-49c87aced943",
   "metadata": {},
   "outputs": [],
   "source": [
    "from sklearn.metrics import accuracy_score, precision_score, recall_score, f1_score, confusion_matrix\n",
    "\n",
    "\n",
    "# Calculate confusion matrix\n",
    "tn, fp, fn, tp = confusion_matrix(y_test, y_pred).ravel()\n",
    "\n",
    "# Compute metrics\n",
    "accuracy = accuracy_score(y_test, y_pred)\n",
    "precision = precision_score(y_test, y_pred, zero_division=0)\n",
    "recall = recall_score(y_test, y_pred)\n",
    "specificity = tn / (tn + fp)\n",
    "f1 = f1_score(y_test, y_pred)\n",
    "\n",
    "# Print metrics\n",
    "print(f\"Accuracy:    {accuracy:.4f}\")\n",
    "print(f\"Precision:   {precision:.4f}\")\n",
    "print(f\"Recall:      {recall:.4f}\")\n",
    "print(f\"Specificity: {specificity:.4f}\")\n",
    "print(f\"F1 Score:    {f1:.4f}\")\n",
    "\n"
   ]
  },
  {
   "cell_type": "code",
   "execution_count": null,
   "id": "4a79fb57-cf1f-481c-b19d-b9d0eb61a6b5",
   "metadata": {},
   "outputs": [],
   "source": [
    "from sklearn.metrics import roc_curve, auc\n",
    "import matplotlib.pyplot as plt\n",
    "\n",
    "# Compute FPR, TPR, and thresholds\n",
    "fpr, tpr, thresholds = roc_curve(y_test, y_probs)\n",
    "\n",
    "# Calculate AUC\n",
    "roc_auc = auc(fpr, tpr)\n",
    "\n",
    "# Plot the ROC Curve\n",
    "plt.figure(figsize=(6, 5))\n",
    "plt.plot(fpr, tpr, label=f'ROC Curve (AUC = {roc_auc:.2f})')\n",
    "plt.plot([0, 1], [0, 1], linestyle='--', color='gray')  # Diagonal line (random guess)\n",
    "plt.xlabel('False Positive Rate')\n",
    "plt.ylabel('True Positive Rate')\n",
    "plt.title('Receiver Operating Characteristic (ROC) Curve')\n",
    "plt.legend(loc='lower right')\n",
    "plt.grid(True)\n",
    "plt.tight_layout()\n",
    "plt.show()"
   ]
  },
  {
   "cell_type": "code",
   "execution_count": null,
   "id": "3a6bd363-8f83-481a-9983-3d2f31b75f37",
   "metadata": {},
   "outputs": [],
   "source": []
  },
  {
   "cell_type": "code",
   "execution_count": null,
   "id": "fad5dcb0-113d-4758-ada5-fc865d3c87c9",
   "metadata": {},
   "outputs": [],
   "source": []
  },
  {
   "cell_type": "code",
   "execution_count": null,
   "id": "ba62221b-c200-474c-b7c4-caead731ce21",
   "metadata": {},
   "outputs": [],
   "source": []
  },
  {
   "cell_type": "markdown",
   "id": "bf96ecc4-9a75-412b-b611-596bcca19978",
   "metadata": {},
   "source": [
    "           Precision, recall, f1score, accuracy \n",
    "num_days5, 0.74, 0.73, 0.73, 0.73\n",
    "\n",
    "\n",
    "num_days10 0.85, 0.85, 0.85, 0.85\n",
    "\n",
    "\n",
    "num_days20 0.88, 0.88, 0.88, 0.88\n",
    "\n",
    "num_days30 0.93\n",
    "\n",
    "num_days40 0.91 \n",
    "\n",
    "num_days50 0.95\n",
    "\n"
   ]
  },
  {
   "cell_type": "code",
   "execution_count": null,
   "id": "cb9fcdea-742b-4b8c-ae3a-5091acf9ad01",
   "metadata": {},
   "outputs": [],
   "source": []
  },
  {
   "cell_type": "code",
   "execution_count": null,
   "id": "9be5fab3-d57e-4e80-9822-7f5bf0a895e0",
   "metadata": {},
   "outputs": [],
   "source": [
    "# y_pred is your prediction array of 0s and 1s\n",
    "unique, counts = np.unique(y_pred, return_counts=True)\n",
    "\n",
    "for val, count in zip(unique, counts):\n",
    "    print(f\"Number of {val}'s: {count}\")"
   ]
  },
  {
   "cell_type": "code",
   "execution_count": null,
   "id": "5169c30e-c852-4314-a784-1ef5db29e49b",
   "metadata": {},
   "outputs": [],
   "source": [
    "import matplotlib.pyplot as plt\n",
    "\n",
    "plt.figure(figsize=(10,5))\n",
    "plt.plot(y_test, label='Actual', marker='o')\n",
    "plt.plot(y_pred, label='Predicted', marker='x')\n",
    "plt.title('Actual vs Predicted (Classification)')\n",
    "plt.xlabel('Sample Index')\n",
    "plt.ylabel('Class')\n",
    "plt.legend()\n",
    "plt.show()"
   ]
  },
  {
   "cell_type": "code",
   "execution_count": null,
   "id": "7ec6eb1d-5c1d-447d-9f43-a6b56cd570a8",
   "metadata": {},
   "outputs": [],
   "source": [
    "from sklearn.metrics import confusion_matrix, ConfusionMatrixDisplay\n",
    "\n",
    "cm = confusion_matrix(y_test, y_pred)\n",
    "disp = ConfusionMatrixDisplay(confusion_matrix=cm)\n",
    "disp.plot()\n",
    "plt.show()"
   ]
  },
  {
   "cell_type": "code",
   "execution_count": null,
   "id": "be6a7ab7-5b07-4f42-a90a-49ffe0b40d18",
   "metadata": {},
   "outputs": [],
   "source": []
  },
  {
   "cell_type": "code",
   "execution_count": null,
   "id": "cc423edd-8393-4e22-866e-777865b8eb7a",
   "metadata": {},
   "outputs": [],
   "source": [
    "#Model is notidentifying 0s properly"
   ]
  },
  {
   "cell_type": "markdown",
   "id": "0c6c593a-d34b-4b0a-a720-4487d4d554de",
   "metadata": {},
   "source": []
  },
  {
   "cell_type": "code",
   "execution_count": null,
   "id": "9f2fd80d-fd0a-4180-bd29-e3ef3a24de22",
   "metadata": {},
   "outputs": [],
   "source": []
  },
  {
   "cell_type": "code",
   "execution_count": null,
   "id": "76ec8655-dc7b-48a0-b7c7-3afda75c2b3c",
   "metadata": {},
   "outputs": [],
   "source": []
  },
  {
   "cell_type": "code",
   "execution_count": null,
   "id": "277cdb69-49bb-409e-973f-6d7c04556ff3",
   "metadata": {},
   "outputs": [],
   "source": []
  }
 ],
 "metadata": {
  "kernelspec": {
   "display_name": "Python 3 (ipykernel)",
   "language": "python",
   "name": "python3"
  },
  "language_info": {
   "codemirror_mode": {
    "name": "ipython",
    "version": 3
   },
   "file_extension": ".py",
   "mimetype": "text/x-python",
   "name": "python",
   "nbconvert_exporter": "python",
   "pygments_lexer": "ipython3",
   "version": "3.12.4"
  }
 },
 "nbformat": 4,
 "nbformat_minor": 5
}
